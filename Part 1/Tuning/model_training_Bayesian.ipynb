{
 "cells": [
  {
   "cell_type": "markdown",
   "metadata": {},
   "source": [
    "# INSY695-078 Final Project: Analysis of Hotel Booking Cancellations\n",
    "\n",
    "End to end project using Predictive Modeling and Causal Inference for Hotel Booking Cancellation Insights"
   ]
  },
  {
   "cell_type": "markdown",
   "metadata": {},
   "source": [
    "## 1. Import the Required Libraries"
   ]
  },
  {
   "cell_type": "code",
   "execution_count": 1,
   "metadata": {},
   "outputs": [],
   "source": [
    "import pandas as pd\n",
    "import matplotlib.pyplot as plt\n",
    "import seaborn as sns\n",
    "\n",
    "import numpy as np\n",
    "import xgboost as xgb\n",
    "from matplotlib.colors import ListedColormap, LinearSegmentedColormap\n",
    "from sklearn.model_selection import train_test_split\n",
    "from sklearn.tree import DecisionTreeClassifier\n",
    "from sklearn.ensemble import RandomForestClassifier\n",
    "from sklearn.model_selection import GridSearchCV, StratifiedKFold\n",
    "from sklearn.pipeline import Pipeline\n",
    "import sklearn.metrics as metrics\n",
    "from sklearn.metrics import *\n",
    "from sklearn.metrics import classification_report, RocCurveDisplay, ConfusionMatrixDisplay\n",
    "from sklearn.preprocessing import StandardScaler\n",
    "from sklearn.model_selection import train_test_split\n",
    "from sklearn.ensemble import IsolationForest\n",
    "from imblearn.over_sampling import RandomOverSampler\n",
    "import joblib\n",
    "\n",
    "import warnings\n",
    "warnings.filterwarnings('ignore')"
   ]
  },
  {
   "cell_type": "markdown",
   "metadata": {},
   "source": [
    "## 2. Data Preprocessing"
   ]
  },
  {
   "cell_type": "code",
   "execution_count": 2,
   "metadata": {},
   "outputs": [],
   "source": [
    "# Load the data\n",
    "df = pd.read_csv('/Users/zy/Documents/GitHub/hotel_cancellation_ML2/Part 1/hotel_booking.csv')"
   ]
  },
  {
   "cell_type": "markdown",
   "metadata": {},
   "source": [
    "### 2.1 Feature Engineering"
   ]
  },
  {
   "cell_type": "code",
   "execution_count": 3,
   "metadata": {},
   "outputs": [],
   "source": [
    "df.sort_values(by=['name', 'arrival_date_year', 'arrival_date_month', 'arrival_date_day_of_month'], inplace=True)\n",
    "\n",
    "# Create Number of bookings column counting the number of bookings by name prior to arrival year, month and day\n",
    "df['num_bookings'] = df.groupby('name').cumcount()\n",
    "\n",
    "# Arrival date year does not make sense for the model we want to build, so we drop it\n",
    "df = df.drop(['arrival_date_year'], axis=1)\n",
    "\n",
    "# Keep country names with more than 1000 bookings rest as 'Other'   \n",
    "country_counts = df['country'].value_counts()\n",
    "df['country'] = np.where(df['country'].isin(country_counts.index[country_counts > 1000]), df['country'], 'Other')"
   ]
  },
  {
   "cell_type": "markdown",
   "metadata": {},
   "source": [
    "### 2.2 Reservation Status, Reservation Status Date are Updated after is cancelled , so it is dropped"
   ]
  },
  {
   "cell_type": "code",
   "execution_count": 4,
   "metadata": {},
   "outputs": [],
   "source": [
    "# Drop the 'reservation_status_date' and 'reservation_status_days_difference' columns\n",
    "df = df.drop(['reservation_status_date', 'reservation_status','assigned_room_type'], axis=1)"
   ]
  },
  {
   "cell_type": "markdown",
   "metadata": {},
   "source": [
    "### 2.3 Removing Personal identification information"
   ]
  },
  {
   "cell_type": "code",
   "execution_count": 5,
   "metadata": {},
   "outputs": [],
   "source": [
    "df = df.drop(['name', 'email','phone-number', 'credit_card'], axis=1)"
   ]
  },
  {
   "cell_type": "markdown",
   "metadata": {},
   "source": [
    "### 2.4 Since the number of agents and company is very high and there are many missing values, we can omit these columns"
   ]
  },
  {
   "cell_type": "code",
   "execution_count": 6,
   "metadata": {},
   "outputs": [],
   "source": [
    "# Drop the 'agent' and 'company' columns\n",
    "df = df.drop(['agent', 'company'], axis=1)"
   ]
  },
  {
   "cell_type": "markdown",
   "metadata": {},
   "source": [
    "### 2.5 Replace missing values with the 0 for the children column\n"
   ]
  },
  {
   "cell_type": "code",
   "execution_count": 7,
   "metadata": {},
   "outputs": [],
   "source": [
    "df['children'] = df['children'].fillna(0)"
   ]
  },
  {
   "cell_type": "markdown",
   "metadata": {},
   "source": [
    "## 3. Split the Data into train, validation, and test set"
   ]
  },
  {
   "cell_type": "code",
   "execution_count": 8,
   "metadata": {},
   "outputs": [],
   "source": [
    "train, eval = train_test_split(df, test_size=0.3, random_state=42)\n",
    "test, val = train_test_split(eval, test_size=0.5, random_state=42)"
   ]
  },
  {
   "cell_type": "markdown",
   "metadata": {},
   "source": [
    "## 4. Categorical Encoding"
   ]
  },
  {
   "cell_type": "code",
   "execution_count": 9,
   "metadata": {},
   "outputs": [],
   "source": [
    "# Using get_dummies to convert categorical columns to numerical columns\n",
    "train = pd.get_dummies(train, columns=['hotel','arrival_date_month', 'meal', 'country', 'market_segment', 'distribution_channel', 'reserved_room_type', 'deposit_type', 'customer_type'], drop_first=True)"
   ]
  },
  {
   "cell_type": "markdown",
   "metadata": {},
   "source": [
    "## 5. Handling Outliers in the dataset"
   ]
  },
  {
   "cell_type": "code",
   "execution_count": 10,
   "metadata": {},
   "outputs": [],
   "source": [
    "iforest = IsolationForest(n_estimators=100, random_state=42, contamination=0.02)\n",
    "pred = iforest.fit_predict(train)\n",
    "score = iforest.decision_function(train)\n",
    "\n",
    "from numpy import where\n",
    "anom_index = where(pred== -1)\n",
    "values = train.iloc[anom_index]\n",
    "\n",
    "#Remove outliers\n",
    "train = train.drop(values.index)"
   ]
  },
  {
   "cell_type": "markdown",
   "metadata": {},
   "source": [
    "## 6. Define the target and features"
   ]
  },
  {
   "cell_type": "code",
   "execution_count": 11,
   "metadata": {},
   "outputs": [],
   "source": [
    "# Split the data into features and target\n",
    "X_train = train.drop('is_canceled', axis=1)\n",
    "y_train = train['is_canceled']"
   ]
  },
  {
   "cell_type": "markdown",
   "metadata": {},
   "source": [
    "## 7. Feature Selection"
   ]
  },
  {
   "cell_type": "code",
   "execution_count": 12,
   "metadata": {},
   "outputs": [
    {
     "data": {
      "text/html": [
       "<div>\n",
       "<style scoped>\n",
       "    .dataframe tbody tr th:only-of-type {\n",
       "        vertical-align: middle;\n",
       "    }\n",
       "\n",
       "    .dataframe tbody tr th {\n",
       "        vertical-align: top;\n",
       "    }\n",
       "\n",
       "    .dataframe thead th {\n",
       "        text-align: right;\n",
       "    }\n",
       "</style>\n",
       "<table border=\"1\" class=\"dataframe\">\n",
       "  <thead>\n",
       "    <tr style=\"text-align: right;\">\n",
       "      <th></th>\n",
       "      <th>predictor</th>\n",
       "      <th>feature importance</th>\n",
       "    </tr>\n",
       "  </thead>\n",
       "  <tbody>\n",
       "    <tr>\n",
       "      <th>54</th>\n",
       "      <td>market_segment_Undefined</td>\n",
       "      <td>0.000012</td>\n",
       "    </tr>\n",
       "    <tr>\n",
       "      <th>58</th>\n",
       "      <td>distribution_channel_Undefined</td>\n",
       "      <td>0.000018</td>\n",
       "    </tr>\n",
       "    <tr>\n",
       "      <th>66</th>\n",
       "      <td>reserved_room_type_L</td>\n",
       "      <td>0.000037</td>\n",
       "    </tr>\n",
       "    <tr>\n",
       "      <th>69</th>\n",
       "      <td>deposit_type_Refundable</td>\n",
       "      <td>0.000135</td>\n",
       "    </tr>\n",
       "    <tr>\n",
       "      <th>67</th>\n",
       "      <td>reserved_room_type_P</td>\n",
       "      <td>0.000181</td>\n",
       "    </tr>\n",
       "    <tr>\n",
       "      <th>56</th>\n",
       "      <td>distribution_channel_GDS</td>\n",
       "      <td>0.000230</td>\n",
       "    </tr>\n",
       "    <tr>\n",
       "      <th>70</th>\n",
       "      <td>customer_type_Group</td>\n",
       "      <td>0.000233</td>\n",
       "    </tr>\n",
       "    <tr>\n",
       "      <th>48</th>\n",
       "      <td>market_segment_Complementary</td>\n",
       "      <td>0.000416</td>\n",
       "    </tr>\n",
       "    <tr>\n",
       "      <th>65</th>\n",
       "      <td>reserved_room_type_H</td>\n",
       "      <td>0.000594</td>\n",
       "    </tr>\n",
       "    <tr>\n",
       "      <th>7</th>\n",
       "      <td>babies</td>\n",
       "      <td>0.000801</td>\n",
       "    </tr>\n",
       "  </tbody>\n",
       "</table>\n",
       "</div>"
      ],
      "text/plain": [
       "                         predictor  feature importance\n",
       "54        market_segment_Undefined            0.000012\n",
       "58  distribution_channel_Undefined            0.000018\n",
       "66            reserved_room_type_L            0.000037\n",
       "69         deposit_type_Refundable            0.000135\n",
       "67            reserved_room_type_P            0.000181\n",
       "56        distribution_channel_GDS            0.000230\n",
       "70             customer_type_Group            0.000233\n",
       "48    market_segment_Complementary            0.000416\n",
       "65            reserved_room_type_H            0.000594\n",
       "7                           babies            0.000801"
      ]
     },
     "execution_count": 12,
     "metadata": {},
     "output_type": "execute_result"
    }
   ],
   "source": [
    "randomforest = RandomForestClassifier(random_state=42)\n",
    "model = randomforest.fit(X_train,y_train)\n",
    "model.feature_importances_\n",
    "pd.DataFrame(list(zip(X_train.columns,model.feature_importances_)), columns = ['predictor','feature importance']).sort_values(\"feature importance\")[:10]"
   ]
  },
  {
   "cell_type": "code",
   "execution_count": 13,
   "metadata": {},
   "outputs": [],
   "source": [
    "#Drop columns with low feature importance 'reserved_room_type_L','market_segment_Undefined','distribution_channel_Undefined'\n",
    "X_train = X_train.drop(['reserved_room_type_L','market_segment_Undefined','distribution_channel_Undefined'], axis=1)"
   ]
  },
  {
   "cell_type": "markdown",
   "metadata": {},
   "source": [
    "## 8. Standardize the Data"
   ]
  },
  {
   "cell_type": "code",
   "execution_count": 14,
   "metadata": {},
   "outputs": [],
   "source": [
    "sc = StandardScaler()\n",
    "X_train_std = sc.fit_transform(X_train)"
   ]
  },
  {
   "cell_type": "markdown",
   "metadata": {},
   "source": [
    "## 9. Preprocessing for Validation & Test Data"
   ]
  },
  {
   "cell_type": "code",
   "execution_count": 15,
   "metadata": {},
   "outputs": [],
   "source": [
    "#Replace missing values with the 0 for the children column\n",
    "val['children'] = val['children'].fillna(0)\n",
    "\n",
    "# Using get_dummies to convert categorical columns to numerical columns\n",
    "val = pd.get_dummies(val, columns=['hotel','arrival_date_month', 'meal', 'country', 'market_segment', 'distribution_channel', 'reserved_room_type', 'deposit_type', 'customer_type'], drop_first=True)\n",
    "\n",
    "# Split the data into features and target\n",
    "X_val = val.drop('is_canceled', axis=1)\n",
    "y_val = val['is_canceled']\n",
    "\n",
    "#Drop columns with low feature importance 'reserved_room_type_L','market_segment_Undefined','distribution_channel_Undefined' if these columns exist\n",
    "if 'reserved_room_type_L' in X_val.columns:\n",
    "    X_val = X_val.drop(['reserved_room_type_L'], axis=1)\n",
    "if 'market_segment_Undefined' in X_val.columns:\n",
    "    X_val = X_val.drop(['market_segment_Undefined'], axis=1)\n",
    "if 'distribution_channel_Undefined' in X_val.columns:\n",
    "    X_val = X_val.drop(['distribution_channel_Undefined'], axis=1)\n",
    "\n",
    "#standardize the data\n",
    "sc = StandardScaler()\n",
    "X_val_std = sc.fit_transform(X_val)\n",
    "\n",
    "\n",
    "#Replace missing values with the 0 for the children column\n",
    "test['children'] = test['children'].fillna(0)\n",
    "\n",
    "# Using get_dummies to convert categorical columns to numerical columns\n",
    "test = pd.get_dummies(test, columns=['hotel','arrival_date_month', 'meal', 'country', 'market_segment', 'distribution_channel', 'reserved_room_type', 'deposit_type', 'customer_type'], drop_first=True)\n",
    "\n",
    "# Split the data into features and target\n",
    "X_test = test.drop('is_canceled', axis=1)\n",
    "y_test = test['is_canceled']\n",
    "\n",
    "#Drop columns with low feature importance 'reserved_room_type_L','market_segment_Undefined','distribution_channel_Undefined' if these columns exist\n",
    "if 'reserved_room_type_L' in X_test.columns:\n",
    "    X_test = X_test.drop(['reserved_room_type_L'], axis=1)\n",
    "if 'market_segment_Undefined' in X_test.columns:\n",
    "    X_test = X_test.drop(['market_segment_Undefined'], axis=1)\n",
    "if 'distribution_channel_Undefined' in X_test.columns:\n",
    "    X_test = X_test.drop(['distribution_channel_Undefined'], axis=1)\n",
    "\n",
    "#standardize the data\n",
    "sc = StandardScaler()\n",
    "X_test_std = sc.fit_transform(X_test)"
   ]
  },
  {
   "cell_type": "markdown",
   "metadata": {},
   "source": [
    "## 10. Balancing the Classes for training data"
   ]
  },
  {
   "cell_type": "code",
   "execution_count": 16,
   "metadata": {},
   "outputs": [
    {
     "data": {
      "text/plain": [
       "0    51281\n",
       "1    51281\n",
       "Name: is_canceled, dtype: int64"
      ]
     },
     "execution_count": 16,
     "metadata": {},
     "output_type": "execute_result"
    }
   ],
   "source": [
    "#Use RandomOverSampler to handle imbalanced data\n",
    "ros = RandomOverSampler(random_state=42)\n",
    "X_train_ros, y_train_ros = ros.fit_resample(X_train_std, y_train)\n",
    "\n",
    "pd.Series(y_train_ros).value_counts()"
   ]
  },
  {
   "cell_type": "code",
   "execution_count": 17,
   "metadata": {},
   "outputs": [],
   "source": [
    "train_X = X_train.copy()\n",
    "cols = list(train_X)\n",
    "\n",
    "X_train_ros=pd.DataFrame(X_train_ros)\n",
    "X_train_ros.columns=cols\n",
    "#Renaming column name of Target variable\n",
    "y_train_ros=pd.DataFrame(y_train_ros)\n",
    "y_train_ros.columns = ['is_canceled']\n",
    "scaled_train_df = pd.concat([X_train_ros,y_train_ros], axis=1)"
   ]
  },
  {
   "cell_type": "markdown",
   "metadata": {},
   "source": [
    "X_train_ros & y_train_ros are the final features and target dataframes after balancing classes to be used for model training."
   ]
  },
  {
   "cell_type": "markdown",
   "metadata": {},
   "source": [
    "## 11. Training for the best selected model"
   ]
  },
  {
   "cell_type": "code",
   "execution_count": 18,
   "metadata": {},
   "outputs": [
    {
     "name": "stdout",
     "output_type": "stream",
     "text": [
      "Accuracy score of the best model:  0.6282316153889106\n",
      "\n",
      "ROC-AUC score of the best model:  0.6514754434856518\n"
     ]
    }
   ],
   "source": [
    "clf_rf_best = RandomForestClassifier(\n",
    "    **{\n",
    "        \"min_samples_leaf\": 1,\n",
    "        \"n_estimators\": 200,\n",
    "        \"random_state\": 42,\n",
    "    })\n",
    "clf_rf_best.fit(X_train_ros, y_train_ros)\n",
    "print(\"Accuracy score of the best model: \", accuracy_score(y_val, clf_rf_best.predict(X_val)))\n",
    "print(\"\\nROC-AUC score of the best model: \", roc_auc_score(y_val, clf_rf_best.predict(X_val)))"
   ]
  },
  {
   "cell_type": "markdown",
   "metadata": {},
   "source": [
    "## 12. Hyperparameter Tuning"
   ]
  },
  {
   "cell_type": "code",
   "execution_count": 19,
   "metadata": {},
   "outputs": [],
   "source": [
    "from sklearn.model_selection import RandomizedSearchCV, cross_val_score\n",
    "from sklearn.metrics import accuracy_score, roc_auc_score\n",
    "from bayes_opt import BayesianOptimization\n",
    "from ray.tune.schedulers import PopulationBasedTraining\n",
    "from ray import tune\n",
    "\n",
    "from hyperopt import hp, fmin, tpe, Trials, STATUS_OK\n",
    "from ray.tune.schedulers import AsyncHyperBandScheduler\n",
    "from ray.tune.schedulers import HyperBandForBOHB\n",
    "import mlflow"
   ]
  },
  {
   "cell_type": "markdown",
   "metadata": {},
   "source": [
    "### 12.3 Bayesian Optimization"
   ]
  },
  {
   "cell_type": "code",
   "execution_count": 20,
   "metadata": {},
   "outputs": [
    {
     "name": "stdout",
     "output_type": "stream",
     "text": [
      "|   iter    |  target   | max_depth | max_fe... | min_sa... | min_sa... | n_esti... |\n",
      "-------------------------------------------------------------------------------------\n",
      "| \u001b[0m1        \u001b[0m | \u001b[0m0.9395   \u001b[0m | \u001b[0m14.36    \u001b[0m | \u001b[0m0.9556   \u001b[0m | \u001b[0m7.588    \u001b[0m | \u001b[0m12.78    \u001b[0m | \u001b[0m162.4    \u001b[0m |\n",
      "| \u001b[0m2        \u001b[0m | \u001b[0m0.9142   \u001b[0m | \u001b[0m8.9      \u001b[0m | \u001b[0m0.1523   \u001b[0m | \u001b[0m8.796    \u001b[0m | \u001b[0m12.82    \u001b[0m | \u001b[0m383.2    \u001b[0m |\n",
      "| \u001b[0m3        \u001b[0m | \u001b[0m0.889    \u001b[0m | \u001b[0m5.515    \u001b[0m | \u001b[0m0.9729   \u001b[0m | \u001b[0m8.492    \u001b[0m | \u001b[0m5.822    \u001b[0m | \u001b[0m172.7    \u001b[0m |\n",
      "| \u001b[0m4        \u001b[0m | \u001b[0m0.9185   \u001b[0m | \u001b[0m9.585    \u001b[0m | \u001b[0m0.3738   \u001b[0m | \u001b[0m5.723    \u001b[0m | \u001b[0m9.775    \u001b[0m | \u001b[0m216.5    \u001b[0m |\n",
      "| \u001b[95m5        \u001b[0m | \u001b[95m0.9564   \u001b[0m | \u001b[95m20.3     \u001b[0m | \u001b[95m0.2255   \u001b[0m | \u001b[95m3.629    \u001b[0m | \u001b[95m8.595    \u001b[0m | \u001b[95m282.4    \u001b[0m |\n",
      "| \u001b[95m6        \u001b[0m | \u001b[95m0.9586   \u001b[0m | \u001b[95m24.63    \u001b[0m | \u001b[95m0.2797   \u001b[0m | \u001b[95m5.628    \u001b[0m | \u001b[95m12.66    \u001b[0m | \u001b[95m118.6    \u001b[0m |\n",
      "| \u001b[0m7        \u001b[0m | \u001b[0m0.9547   \u001b[0m | \u001b[0m20.19    \u001b[0m | \u001b[0m0.2535   \u001b[0m | \u001b[0m1.585    \u001b[0m | \u001b[0m19.08    \u001b[0m | \u001b[0m486.3    \u001b[0m |\n",
      "| \u001b[95m8        \u001b[0m | \u001b[95m0.9652   \u001b[0m | \u001b[95m25.21    \u001b[0m | \u001b[95m0.3742   \u001b[0m | \u001b[95m1.879    \u001b[0m | \u001b[95m14.32    \u001b[0m | \u001b[95m276.1    \u001b[0m |\n",
      "| \u001b[0m9        \u001b[0m | \u001b[0m0.9138   \u001b[0m | \u001b[0m8.051    \u001b[0m | \u001b[0m0.5457   \u001b[0m | \u001b[0m1.309    \u001b[0m | \u001b[0m18.37    \u001b[0m | \u001b[0m203.5    \u001b[0m |\n",
      "| \u001b[0m10       \u001b[0m | \u001b[0m0.9576   \u001b[0m | \u001b[0m21.56    \u001b[0m | \u001b[0m0.3805   \u001b[0m | \u001b[0m5.681    \u001b[0m | \u001b[0m11.84    \u001b[0m | \u001b[0m173.9    \u001b[0m |\n",
      "| \u001b[0m11       \u001b[0m | \u001b[0m0.9644   \u001b[0m | \u001b[0m27.13    \u001b[0m | \u001b[0m0.7466   \u001b[0m | \u001b[0m1.0      \u001b[0m | \u001b[0m19.95    \u001b[0m | \u001b[0m285.6    \u001b[0m |\n",
      "| \u001b[0m12       \u001b[0m | \u001b[0m0.9633   \u001b[0m | \u001b[0m26.59    \u001b[0m | \u001b[0m0.7986   \u001b[0m | \u001b[0m4.866    \u001b[0m | \u001b[0m13.35    \u001b[0m | \u001b[0m119.1    \u001b[0m |\n",
      "| \u001b[0m13       \u001b[0m | \u001b[0m0.9644   \u001b[0m | \u001b[0m30.0     \u001b[0m | \u001b[0m1.0      \u001b[0m | \u001b[0m1.0      \u001b[0m | \u001b[0m19.58    \u001b[0m | \u001b[0m136.4    \u001b[0m |\n",
      "| \u001b[0m14       \u001b[0m | \u001b[0m0.9651   \u001b[0m | \u001b[0m29.14    \u001b[0m | \u001b[0m0.495    \u001b[0m | \u001b[0m1.102    \u001b[0m | \u001b[0m18.57    \u001b[0m | \u001b[0m163.7    \u001b[0m |\n",
      "| \u001b[0m15       \u001b[0m | \u001b[0m0.9555   \u001b[0m | \u001b[0m30.0     \u001b[0m | \u001b[0m1.0      \u001b[0m | \u001b[0m10.0     \u001b[0m | \u001b[0m2.0      \u001b[0m | \u001b[0m140.5    \u001b[0m |\n",
      "| \u001b[0m16       \u001b[0m | \u001b[0m0.9431   \u001b[0m | \u001b[0m30.0     \u001b[0m | \u001b[0m0.1056   \u001b[0m | \u001b[0m10.0     \u001b[0m | \u001b[0m20.0     \u001b[0m | \u001b[0m255.5    \u001b[0m |\n",
      "| \u001b[0m17       \u001b[0m | \u001b[0m0.9557   \u001b[0m | \u001b[0m30.0     \u001b[0m | \u001b[0m1.0      \u001b[0m | \u001b[0m10.0     \u001b[0m | \u001b[0m20.0     \u001b[0m | \u001b[0m314.8    \u001b[0m |\n",
      "| \u001b[0m18       \u001b[0m | \u001b[0m0.9558   \u001b[0m | \u001b[0m30.0     \u001b[0m | \u001b[0m1.0      \u001b[0m | \u001b[0m10.0     \u001b[0m | \u001b[0m2.0      \u001b[0m | \u001b[0m461.5    \u001b[0m |\n",
      "| \u001b[0m19       \u001b[0m | \u001b[0m0.8929   \u001b[0m | \u001b[0m5.018    \u001b[0m | \u001b[0m0.876    \u001b[0m | \u001b[0m1.356    \u001b[0m | \u001b[0m17.55    \u001b[0m | \u001b[0m458.3    \u001b[0m |\n",
      "| \u001b[0m20       \u001b[0m | \u001b[0m0.9615   \u001b[0m | \u001b[0m28.76    \u001b[0m | \u001b[0m0.443    \u001b[0m | \u001b[0m6.286    \u001b[0m | \u001b[0m2.137    \u001b[0m | \u001b[0m496.9    \u001b[0m |\n",
      "| \u001b[0m21       \u001b[0m | \u001b[0m0.8874   \u001b[0m | \u001b[0m5.0      \u001b[0m | \u001b[0m1.0      \u001b[0m | \u001b[0m10.0     \u001b[0m | \u001b[0m2.0      \u001b[0m | \u001b[0m500.0    \u001b[0m |\n",
      "| \u001b[95m22       \u001b[0m | \u001b[95m0.9774   \u001b[0m | \u001b[95m29.96    \u001b[0m | \u001b[95m0.8626   \u001b[0m | \u001b[95m1.534    \u001b[0m | \u001b[95m3.169    \u001b[0m | \u001b[95m480.5    \u001b[0m |\n",
      "| \u001b[0m23       \u001b[0m | \u001b[0m0.8874   \u001b[0m | \u001b[0m5.0      \u001b[0m | \u001b[0m1.0      \u001b[0m | \u001b[0m1.0      \u001b[0m | \u001b[0m20.0     \u001b[0m | \u001b[0m311.3    \u001b[0m |\n",
      "| \u001b[0m24       \u001b[0m | \u001b[0m0.9432   \u001b[0m | \u001b[0m30.0     \u001b[0m | \u001b[0m0.1      \u001b[0m | \u001b[0m10.0     \u001b[0m | \u001b[0m14.68    \u001b[0m | \u001b[0m480.3    \u001b[0m |\n",
      "| \u001b[0m25       \u001b[0m | \u001b[0m0.9637   \u001b[0m | \u001b[0m30.0     \u001b[0m | \u001b[0m1.0      \u001b[0m | \u001b[0m1.0      \u001b[0m | \u001b[0m20.0     \u001b[0m | \u001b[0m100.0    \u001b[0m |\n",
      "| \u001b[0m26       \u001b[0m | \u001b[0m0.9769   \u001b[0m | \u001b[0m30.0     \u001b[0m | \u001b[0m0.1      \u001b[0m | \u001b[0m1.0      \u001b[0m | \u001b[0m2.0      \u001b[0m | \u001b[0m163.9    \u001b[0m |\n",
      "| \u001b[0m27       \u001b[0m | \u001b[0m0.9774   \u001b[0m | \u001b[0m30.0     \u001b[0m | \u001b[0m1.0      \u001b[0m | \u001b[0m1.0      \u001b[0m | \u001b[0m2.0      \u001b[0m | \u001b[0m100.0    \u001b[0m |\n",
      "| \u001b[0m28       \u001b[0m | \u001b[0m0.903    \u001b[0m | \u001b[0m5.254    \u001b[0m | \u001b[0m0.2279   \u001b[0m | \u001b[0m5.841    \u001b[0m | \u001b[0m2.121    \u001b[0m | \u001b[0m100.3    \u001b[0m |\n",
      "| \u001b[0m29       \u001b[0m | \u001b[0m0.9557   \u001b[0m | \u001b[0m30.0     \u001b[0m | \u001b[0m1.0      \u001b[0m | \u001b[0m10.0     \u001b[0m | \u001b[0m2.0      \u001b[0m | \u001b[0m339.6    \u001b[0m |\n",
      "| \u001b[0m30       \u001b[0m | \u001b[0m0.8872   \u001b[0m | \u001b[0m5.0      \u001b[0m | \u001b[0m1.0      \u001b[0m | \u001b[0m10.0     \u001b[0m | \u001b[0m20.0     \u001b[0m | \u001b[0m266.4    \u001b[0m |\n",
      "| \u001b[0m31       \u001b[0m | \u001b[0m0.9432   \u001b[0m | \u001b[0m30.0     \u001b[0m | \u001b[0m0.1      \u001b[0m | \u001b[0m10.0     \u001b[0m | \u001b[0m2.0      \u001b[0m | \u001b[0m298.7    \u001b[0m |\n",
      "| \u001b[95m32       \u001b[0m | \u001b[95m0.9774   \u001b[0m | \u001b[95m30.0     \u001b[0m | \u001b[95m1.0      \u001b[0m | \u001b[95m1.0      \u001b[0m | \u001b[95m2.0      \u001b[0m | \u001b[95m115.2    \u001b[0m |\n",
      "| \u001b[95m33       \u001b[0m | \u001b[95m0.9777   \u001b[0m | \u001b[95m30.0     \u001b[0m | \u001b[95m1.0      \u001b[0m | \u001b[95m1.0      \u001b[0m | \u001b[95m2.0      \u001b[0m | \u001b[95m184.5    \u001b[0m |\n",
      "| \u001b[0m34       \u001b[0m | \u001b[0m0.9672   \u001b[0m | \u001b[0m29.85    \u001b[0m | \u001b[0m0.5862   \u001b[0m | \u001b[0m4.741    \u001b[0m | \u001b[0m4.895    \u001b[0m | \u001b[0m419.8    \u001b[0m |\n",
      "| \u001b[0m35       \u001b[0m | \u001b[0m0.8982   \u001b[0m | \u001b[0m5.999    \u001b[0m | \u001b[0m0.1      \u001b[0m | \u001b[0m10.0     \u001b[0m | \u001b[0m2.0      \u001b[0m | \u001b[0m420.1    \u001b[0m |\n",
      "| \u001b[0m36       \u001b[0m | \u001b[0m0.9642   \u001b[0m | \u001b[0m30.0     \u001b[0m | \u001b[0m1.0      \u001b[0m | \u001b[0m1.0      \u001b[0m | \u001b[0m20.0     \u001b[0m | \u001b[0m409.6    \u001b[0m |\n",
      "| \u001b[0m37       \u001b[0m | \u001b[0m0.9432   \u001b[0m | \u001b[0m30.0     \u001b[0m | \u001b[0m0.1      \u001b[0m | \u001b[0m10.0     \u001b[0m | \u001b[0m20.0     \u001b[0m | \u001b[0m430.4    \u001b[0m |\n",
      "| \u001b[0m38       \u001b[0m | \u001b[0m0.943    \u001b[0m | \u001b[0m30.0     \u001b[0m | \u001b[0m0.1      \u001b[0m | \u001b[0m10.0     \u001b[0m | \u001b[0m2.0      \u001b[0m | \u001b[0m174.3    \u001b[0m |\n",
      "| \u001b[0m39       \u001b[0m | \u001b[0m0.964    \u001b[0m | \u001b[0m30.0     \u001b[0m | \u001b[0m1.0      \u001b[0m | \u001b[0m1.0      \u001b[0m | \u001b[0m20.0     \u001b[0m | \u001b[0m186.4    \u001b[0m |\n",
      "| \u001b[95m40       \u001b[0m | \u001b[95m0.9778   \u001b[0m | \u001b[95m30.0     \u001b[0m | \u001b[95m1.0      \u001b[0m | \u001b[95m1.0      \u001b[0m | \u001b[95m2.0      \u001b[0m | \u001b[95m200.9    \u001b[0m |\n",
      "=====================================================================================\n"
     ]
    }
   ],
   "source": [
    "# Initialize MLflow tracking\n",
    "mlflow.start_run()\n",
    "\n",
    "# Define the search space for Bayesian Optimization\n",
    "pbounds_bayesian = {\n",
    "    'n_estimators': (100, 500),\n",
    "    'max_depth': (5, 30),\n",
    "    'min_samples_split': (2, 20),\n",
    "    'min_samples_leaf': (1, 10),\n",
    "    'max_features': (0.1, 1.0)\n",
    "}\n",
    "\n",
    "# Define the objective function for Bayesian Optimization\n",
    "def rf_cv(n_estimators, max_depth, min_samples_split, min_samples_leaf, max_features):\n",
    "    rf = RandomForestClassifier(\n",
    "        n_estimators=int(n_estimators),\n",
    "        max_depth=int(max_depth),\n",
    "        min_samples_split=int(min_samples_split),\n",
    "        min_samples_leaf=int(min_samples_leaf),\n",
    "        max_features=max(min(max_features, 0.999), 1e-3),\n",
    "        random_state=42\n",
    "    )\n",
    "    return np.mean(cross_val_score(rf, X_train_ros, y_train_ros, cv=5, scoring='roc_auc'))\n",
    "\n",
    "# Perform Bayesian Optimization\n",
    "optimizer = BayesianOptimization(\n",
    "    f=rf_cv,\n",
    "    pbounds=pbounds_bayesian,\n",
    "    random_state=42,\n",
    ")\n",
    "\n",
    "optimizer.maximize(init_points=10, n_iter=30)\n",
    "\n",
    "# Get the best hyperparameters from Bayesian Optimization\n",
    "best_params_bayesian = optimizer.max['params']\n",
    "\n",
    "# Log hyperparameters and best score\n",
    "mlflow.log_params(best_params_bayesian)\n",
    "mlflow.log_metric('roc_auc', optimizer.max['target'])\n",
    "\n",
    "# End MLflow run\n",
    "mlflow.end_run()"
   ]
  },
  {
   "cell_type": "code",
   "execution_count": 21,
   "metadata": {},
   "outputs": [
    {
     "data": {
      "text/plain": [
       "{'max_depth': 30.0,\n",
       " 'max_features': 1.0,\n",
       " 'min_samples_leaf': 1.0,\n",
       " 'min_samples_split': 2.0,\n",
       " 'n_estimators': 200.93920488953208}"
      ]
     },
     "execution_count": 21,
     "metadata": {},
     "output_type": "execute_result"
    }
   ],
   "source": [
    "best_params_bayesian"
   ]
  },
  {
   "cell_type": "code",
   "execution_count": null,
   "metadata": {},
   "outputs": [],
   "source": []
  },
  {
   "cell_type": "code",
   "execution_count": 22,
   "metadata": {},
   "outputs": [
    {
     "data": {
      "text/plain": [
       "0.9777765416486209"
      ]
     },
     "execution_count": 22,
     "metadata": {},
     "output_type": "execute_result"
    }
   ],
   "source": [
    "optimizer.max['target']"
   ]
  },
  {
   "cell_type": "code",
   "execution_count": 24,
   "metadata": {},
   "outputs": [
    {
     "name": "stdout",
     "output_type": "stream",
     "text": [
      "Accuracy: 0.6274290819745365\n",
      "ROC-AUC Score: 0.659482736531112\n"
     ]
    }
   ],
   "source": [
    "# Initialize a new instance of the RandomForestClassifier with the best parameters\n",
    "best_rf = RandomForestClassifier(\n",
    "    n_estimators=int(best_params_bayesian['n_estimators']),\n",
    "    max_depth=int(best_params_bayesian['max_depth']),\n",
    "    min_samples_split=int(best_params_bayesian['min_samples_split']),\n",
    "    min_samples_leaf=int(best_params_bayesian['min_samples_leaf']),\n",
    "    max_features=best_params_bayesian['max_features'],\n",
    "    random_state=42\n",
    ")\n",
    "\n",
    "# Train the model on your training data\n",
    "best_rf.fit(X_train_ros, y_train_ros)\n",
    "\n",
    "# Make predictions on your test data\n",
    "y_pred = best_rf.predict(X_test)\n",
    "\n",
    "# Evaluate the performance of your model\n",
    "accuracy = accuracy_score(y_test, y_pred)\n",
    "roc_auc = roc_auc_score(y_test, y_pred)\n",
    "\n",
    "# Print the evaluation metrics\n",
    "print(\"Accuracy:\", accuracy)\n",
    "print(\"ROC-AUC Score:\", roc_auc)\n",
    "optimizer.max['target']"
   ]
  },
  {
   "cell_type": "code",
   "execution_count": null,
   "metadata": {},
   "outputs": [],
   "source": []
  },
  {
   "cell_type": "code",
   "execution_count": null,
   "metadata": {},
   "outputs": [],
   "source": []
  }
 ],
 "metadata": {
  "kernelspec": {
   "display_name": "eml-env",
   "language": "python",
   "name": "python3"
  },
  "language_info": {
   "codemirror_mode": {
    "name": "ipython",
    "version": 3
   },
   "file_extension": ".py",
   "mimetype": "text/x-python",
   "name": "python",
   "nbconvert_exporter": "python",
   "pygments_lexer": "ipython3",
   "version": "3.10.9"
  }
 },
 "nbformat": 4,
 "nbformat_minor": 2
}
