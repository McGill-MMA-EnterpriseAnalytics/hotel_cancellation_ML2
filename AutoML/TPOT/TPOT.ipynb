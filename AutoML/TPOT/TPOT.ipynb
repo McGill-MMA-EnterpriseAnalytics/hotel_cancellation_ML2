{
 "cells": [
  {
   "cell_type": "markdown",
   "metadata": {},
   "source": [
    "# Summary"
   ]
  },
  {
   "cell_type": "markdown",
   "metadata": {},
   "source": [
    "Best ROC-AUC (base) was 86.47% on Random Forest. With TPOT, ROC-AUC is 89.53%. With Neural Network TPOT, ROC-AUC is 94.50%.\n",
    "\n",
    "\n",
    "* TPOT stands for Tree-based Pipeline Optimization Tool. TPOT uses genetic programming to find the optimal ML pipeline \n",
    "* TPOT requires data to be numerical. Since we have preprocessed data already, we will move on to TPOT deployment directly\n",
    "* TPOT takes 1D arrays, therefore dataframes are raveled\n",
    "* Best models are be exported as py files\n"
   ]
  },
  {
   "cell_type": "code",
   "execution_count": 1,
   "metadata": {},
   "outputs": [
    {
     "name": "stdout",
     "output_type": "stream",
     "text": [
      "Collecting tpot\n",
      "  Downloading TPOT-0.12.2-py3-none-any.whl.metadata (2.0 kB)\n",
      "Requirement already satisfied: numpy>=1.16.3 in ./venv/lib/python3.11/site-packages (from tpot) (1.26.4)\n",
      "Requirement already satisfied: scipy>=1.3.1 in ./venv/lib/python3.11/site-packages (from tpot) (1.12.0)\n",
      "Collecting scikit-learn>=1.4.1 (from tpot)\n",
      "  Downloading scikit_learn-1.4.2-cp311-cp311-macosx_12_0_arm64.whl.metadata (11 kB)\n",
      "Collecting deap>=1.2 (from tpot)\n",
      "  Using cached deap-1.4.1-cp311-cp311-macosx_11_0_arm64.whl\n",
      "Collecting update-checker>=0.16 (from tpot)\n",
      "  Downloading update_checker-0.18.0-py3-none-any.whl.metadata (2.3 kB)\n",
      "Requirement already satisfied: tqdm>=4.36.1 in ./venv/lib/python3.11/site-packages (from tpot) (4.65.2)\n",
      "Collecting stopit>=1.1.1 (from tpot)\n",
      "  Using cached stopit-1.1.2-py3-none-any.whl\n",
      "Requirement already satisfied: pandas>=0.24.2 in ./venv/lib/python3.11/site-packages (from tpot) (2.2.2)\n",
      "Requirement already satisfied: joblib>=0.13.2 in ./venv/lib/python3.11/site-packages (from tpot) (1.4.0)\n",
      "Requirement already satisfied: xgboost>=1.1.0 in ./venv/lib/python3.11/site-packages (from tpot) (2.0.3)\n",
      "Requirement already satisfied: python-dateutil>=2.8.2 in ./venv/lib/python3.11/site-packages (from pandas>=0.24.2->tpot) (2.9.0.post0)\n",
      "Requirement already satisfied: pytz>=2020.1 in ./venv/lib/python3.11/site-packages (from pandas>=0.24.2->tpot) (2023.4)\n",
      "Requirement already satisfied: tzdata>=2022.7 in ./venv/lib/python3.11/site-packages (from pandas>=0.24.2->tpot) (2024.1)\n",
      "Requirement already satisfied: threadpoolctl>=2.0.0 in ./venv/lib/python3.11/site-packages (from scikit-learn>=1.4.1->tpot) (3.4.0)\n",
      "Requirement already satisfied: requests>=2.3.0 in ./venv/lib/python3.11/site-packages (from update-checker>=0.16->tpot) (2.28.2)\n",
      "Requirement already satisfied: six>=1.5 in ./venv/lib/python3.11/site-packages (from python-dateutil>=2.8.2->pandas>=0.24.2->tpot) (1.16.0)\n",
      "Requirement already satisfied: charset-normalizer<4,>=2 in ./venv/lib/python3.11/site-packages (from requests>=2.3.0->update-checker>=0.16->tpot) (3.3.2)\n",
      "Requirement already satisfied: idna<4,>=2.5 in ./venv/lib/python3.11/site-packages (from requests>=2.3.0->update-checker>=0.16->tpot) (3.7)\n",
      "Requirement already satisfied: urllib3<1.27,>=1.21.1 in ./venv/lib/python3.11/site-packages (from requests>=2.3.0->update-checker>=0.16->tpot) (1.26.18)\n",
      "Requirement already satisfied: certifi>=2017.4.17 in ./venv/lib/python3.11/site-packages (from requests>=2.3.0->update-checker>=0.16->tpot) (2024.2.2)\n",
      "Downloading TPOT-0.12.2-py3-none-any.whl (87 kB)\n",
      "\u001b[2K   \u001b[90m━━━━━━━━━━━━━━━━━━━━━━━━━━━━━━━━━━━━━━━━\u001b[0m \u001b[32m87.4/87.4 kB\u001b[0m \u001b[31m2.1 MB/s\u001b[0m eta \u001b[36m0:00:00\u001b[0ma \u001b[36m0:00:01\u001b[0m\n",
      "\u001b[?25hDownloading scikit_learn-1.4.2-cp311-cp311-macosx_12_0_arm64.whl (10.5 MB)\n",
      "\u001b[2K   \u001b[90m━━━━━━━━━━━━━━━━━━━━━━━━━━━━━━━━━━━━━━━━\u001b[0m \u001b[32m10.5/10.5 MB\u001b[0m \u001b[31m8.8 MB/s\u001b[0m eta \u001b[36m0:00:00\u001b[0m00:01\u001b[0m00:01\u001b[0m\n",
      "\u001b[?25hDownloading update_checker-0.18.0-py3-none-any.whl (7.0 kB)\n",
      "Installing collected packages: stopit, deap, update-checker, scikit-learn, tpot\n",
      "  Attempting uninstall: scikit-learn\n",
      "    Found existing installation: scikit-learn 1.4.0\n",
      "    Uninstalling scikit-learn-1.4.0:\n",
      "      Successfully uninstalled scikit-learn-1.4.0\n",
      "\u001b[31mERROR: pip's dependency resolver does not currently take into account all the packages that are installed. This behaviour is the source of the following dependency conflicts.\n",
      "autogluon-features 1.1.0 requires scikit-learn<1.4.1,>=1.3.0, but you have scikit-learn 1.4.2 which is incompatible.\n",
      "autogluon-multimodal 1.1.0 requires scikit-learn<1.4.1,>=1.3.0, but you have scikit-learn 1.4.2 which is incompatible.\n",
      "autogluon-core 1.1.0 requires scikit-learn<1.4.1,>=1.3.0, but you have scikit-learn 1.4.2 which is incompatible.\n",
      "autogluon-tabular 1.1.0 requires scikit-learn<1.4.1,>=1.3.0, but you have scikit-learn 1.4.2 which is incompatible.\u001b[0m\u001b[31m\n",
      "\u001b[0mSuccessfully installed deap-1.4.1 scikit-learn-1.4.2 stopit-1.1.2 tpot-0.12.2 update-checker-0.18.0\n",
      "\n",
      "Usage:   \n",
      "  pip install [options] <requirement specifier> [package-index-options] ...\n",
      "  pip install [options] -r <requirements file> [package-index-options] ...\n",
      "  pip install [options] [-e] <vcs project url> ...\n",
      "  pip install [options] [-e] <local project path> ...\n",
      "  pip install [options] <archive url/path> ...\n",
      "\n",
      "ambiguous option: --py (--pypi-url, --python, --python-version?)\n",
      "Collecting dask\n",
      "  Downloading dask-2024.4.2-py3-none-any.whl.metadata (3.8 kB)\n",
      "Collecting dask-ml\n",
      "  Downloading dask_ml-2024.4.4-py3-none-any.whl.metadata (5.9 kB)\n",
      "Requirement already satisfied: click>=8.1 in ./venv/lib/python3.11/site-packages (from dask) (8.1.7)\n",
      "Requirement already satisfied: cloudpickle>=1.5.0 in ./venv/lib/python3.11/site-packages (from dask) (3.0.0)\n",
      "Requirement already satisfied: fsspec>=2021.09.0 in ./venv/lib/python3.11/site-packages (from dask) (2024.3.1)\n",
      "Requirement already satisfied: packaging>=20.0 in ./venv/lib/python3.11/site-packages (from dask) (24.0)\n",
      "Collecting partd>=1.2.0 (from dask)\n",
      "  Using cached partd-1.4.1-py3-none-any.whl.metadata (4.6 kB)\n",
      "Requirement already satisfied: pyyaml>=5.3.1 in ./venv/lib/python3.11/site-packages (from dask) (6.0.1)\n",
      "Requirement already satisfied: toolz>=0.10.0 in ./venv/lib/python3.11/site-packages (from dask) (0.12.1)\n",
      "Collecting importlib-metadata>=4.13.0 (from dask)\n",
      "  Using cached importlib_metadata-7.1.0-py3-none-any.whl.metadata (4.7 kB)\n",
      "Collecting dask-glm>=0.2.0 (from dask-ml)\n",
      "  Downloading dask_glm-0.3.2-py2.py3-none-any.whl.metadata (1.5 kB)\n",
      "Collecting distributed>=2.4.0 (from dask-ml)\n",
      "  Downloading distributed-2024.4.2-py3-none-any.whl.metadata (3.4 kB)\n",
      "Collecting multipledispatch>=0.4.9 (from dask-ml)\n",
      "  Downloading multipledispatch-1.0.0-py3-none-any.whl.metadata (3.8 kB)\n",
      "Requirement already satisfied: numba>=0.51.0 in ./venv/lib/python3.11/site-packages (from dask-ml) (0.59.1)\n",
      "Requirement already satisfied: numpy>=1.20.0 in ./venv/lib/python3.11/site-packages (from dask-ml) (1.26.4)\n",
      "Requirement already satisfied: pandas>=0.24.2 in ./venv/lib/python3.11/site-packages (from dask-ml) (2.2.2)\n",
      "Requirement already satisfied: scikit-learn>=1.2.0 in ./venv/lib/python3.11/site-packages (from dask-ml) (1.4.2)\n",
      "Requirement already satisfied: scipy in ./venv/lib/python3.11/site-packages (from dask-ml) (1.12.0)\n",
      "Collecting sparse>=0.7.0 (from dask-glm>=0.2.0->dask-ml)\n",
      "  Using cached sparse-0.15.1-py2.py3-none-any.whl.metadata (4.5 kB)\n",
      "Collecting dask-expr<1.1,>=1.0 (from dask[array,dataframe]>=2.4.0->dask-ml)\n",
      "  Downloading dask_expr-1.0.12-py3-none-any.whl.metadata (2.4 kB)\n",
      "Requirement already satisfied: jinja2>=2.10.3 in ./venv/lib/python3.11/site-packages (from distributed>=2.4.0->dask-ml) (3.1.3)\n",
      "Collecting locket>=1.0.0 (from distributed>=2.4.0->dask-ml)\n",
      "  Using cached locket-1.0.0-py2.py3-none-any.whl.metadata (2.8 kB)\n",
      "Requirement already satisfied: msgpack>=1.0.0 in ./venv/lib/python3.11/site-packages (from distributed>=2.4.0->dask-ml) (1.0.8)\n",
      "Requirement already satisfied: psutil>=5.7.2 in ./venv/lib/python3.11/site-packages (from distributed>=2.4.0->dask-ml) (5.9.8)\n",
      "Collecting sortedcontainers>=2.0.5 (from distributed>=2.4.0->dask-ml)\n",
      "  Using cached sortedcontainers-2.4.0-py2.py3-none-any.whl.metadata (10 kB)\n",
      "Collecting tblib>=1.6.0 (from distributed>=2.4.0->dask-ml)\n",
      "  Using cached tblib-3.0.0-py3-none-any.whl.metadata (25 kB)\n",
      "Requirement already satisfied: tornado>=6.0.4 in ./venv/lib/python3.11/site-packages (from distributed>=2.4.0->dask-ml) (6.4)\n",
      "Requirement already satisfied: urllib3>=1.24.3 in ./venv/lib/python3.11/site-packages (from distributed>=2.4.0->dask-ml) (1.26.18)\n",
      "Collecting zict>=3.0.0 (from distributed>=2.4.0->dask-ml)\n",
      "  Using cached zict-3.0.0-py2.py3-none-any.whl.metadata (899 bytes)\n",
      "Collecting zipp>=0.5 (from importlib-metadata>=4.13.0->dask)\n",
      "  Using cached zipp-3.18.1-py3-none-any.whl.metadata (3.5 kB)\n",
      "Requirement already satisfied: llvmlite<0.43,>=0.42.0dev0 in ./venv/lib/python3.11/site-packages (from numba>=0.51.0->dask-ml) (0.42.0)\n",
      "Requirement already satisfied: python-dateutil>=2.8.2 in ./venv/lib/python3.11/site-packages (from pandas>=0.24.2->dask-ml) (2.9.0.post0)\n",
      "Requirement already satisfied: pytz>=2020.1 in ./venv/lib/python3.11/site-packages (from pandas>=0.24.2->dask-ml) (2023.4)\n",
      "Requirement already satisfied: tzdata>=2022.7 in ./venv/lib/python3.11/site-packages (from pandas>=0.24.2->dask-ml) (2024.1)\n",
      "Requirement already satisfied: joblib>=1.2.0 in ./venv/lib/python3.11/site-packages (from scikit-learn>=1.2.0->dask-ml) (1.4.0)\n",
      "Requirement already satisfied: threadpoolctl>=2.0.0 in ./venv/lib/python3.11/site-packages (from scikit-learn>=1.2.0->dask-ml) (3.4.0)\n",
      "Requirement already satisfied: pyarrow>=7.0.0 in ./venv/lib/python3.11/site-packages (from dask-expr<1.1,>=1.0->dask[array,dataframe]>=2.4.0->dask-ml) (16.0.0)\n",
      "Requirement already satisfied: MarkupSafe>=2.0 in ./venv/lib/python3.11/site-packages (from jinja2>=2.10.3->distributed>=2.4.0->dask-ml) (2.1.5)\n",
      "Requirement already satisfied: six>=1.5 in ./venv/lib/python3.11/site-packages (from python-dateutil>=2.8.2->pandas>=0.24.2->dask-ml) (1.16.0)\n",
      "Downloading dask-2024.4.2-py3-none-any.whl (1.2 MB)\n",
      "\u001b[2K   \u001b[90m━━━━━━━━━━━━━━━━━━━━━━━━━━━━━━━━━━━━━━━━\u001b[0m \u001b[32m1.2/1.2 MB\u001b[0m \u001b[31m10.0 MB/s\u001b[0m eta \u001b[36m0:00:00\u001b[0ma \u001b[36m0:00:01\u001b[0m\n",
      "\u001b[?25hDownloading dask_ml-2024.4.4-py3-none-any.whl (149 kB)\n",
      "\u001b[2K   \u001b[90m━━━━━━━━━━━━━━━━━━━━━━━━━━━━━━━━━━━━━━━━\u001b[0m \u001b[32m149.8/149.8 kB\u001b[0m \u001b[31m8.0 MB/s\u001b[0m eta \u001b[36m0:00:00\u001b[0m\n",
      "\u001b[?25hDownloading dask_glm-0.3.2-py2.py3-none-any.whl (13 kB)\n",
      "Downloading distributed-2024.4.2-py3-none-any.whl (1.0 MB)\n",
      "\u001b[2K   \u001b[90m━━━━━━━━━━━━━━━━━━━━━━━━━━━━━━━━━━━━━━━━\u001b[0m \u001b[32m1.0/1.0 MB\u001b[0m \u001b[31m5.1 MB/s\u001b[0m eta \u001b[36m0:00:00\u001b[0ma \u001b[36m0:00:01\u001b[0mm\n",
      "\u001b[?25hUsing cached importlib_metadata-7.1.0-py3-none-any.whl (24 kB)\n",
      "Downloading multipledispatch-1.0.0-py3-none-any.whl (12 kB)\n",
      "Using cached partd-1.4.1-py3-none-any.whl (18 kB)\n",
      "Downloading dask_expr-1.0.12-py3-none-any.whl (194 kB)\n",
      "\u001b[2K   \u001b[90m━━━━━━━━━━━━━━━━━━━━━━━━━━━━━━━━━━━━━━━━\u001b[0m \u001b[32m194.3/194.3 kB\u001b[0m \u001b[31m8.8 MB/s\u001b[0m eta \u001b[36m0:00:00\u001b[0m\n",
      "\u001b[?25hUsing cached locket-1.0.0-py2.py3-none-any.whl (4.4 kB)\n",
      "Using cached sortedcontainers-2.4.0-py2.py3-none-any.whl (29 kB)\n",
      "Using cached sparse-0.15.1-py2.py3-none-any.whl (116 kB)\n",
      "Using cached tblib-3.0.0-py3-none-any.whl (12 kB)\n",
      "Using cached zict-3.0.0-py2.py3-none-any.whl (43 kB)\n",
      "Using cached zipp-3.18.1-py3-none-any.whl (8.2 kB)\n",
      "Installing collected packages: sortedcontainers, multipledispatch, zipp, zict, tblib, locket, sparse, partd, importlib-metadata, dask, distributed, dask-expr, dask-glm, dask-ml\n",
      "Successfully installed dask-2024.4.2 dask-expr-1.0.12 dask-glm-0.3.2 dask-ml-2024.4.4 distributed-2024.4.2 importlib-metadata-7.1.0 locket-1.0.0 multipledispatch-1.0.0 partd-1.4.1 sortedcontainers-2.4.0 sparse-0.15.1 tblib-3.0.0 zict-3.0.0 zipp-3.18.1\n"
     ]
    }
   ],
   "source": [
    "! pip install tpot\n",
    "! pip install ipywidgets jupyter nbextension enable --py widgetsnbextension\n",
    "! pip install dask dask-ml"
   ]
  },
  {
   "cell_type": "code",
   "execution_count": 2,
   "metadata": {},
   "outputs": [],
   "source": [
    "from tpot import TPOTClassifier\n",
    "import pandas as pd "
   ]
  },
  {
   "cell_type": "code",
   "execution_count": 3,
   "metadata": {},
   "outputs": [],
   "source": [
    "# import preprocessed data\n",
    "X_train = pd.read_csv('/Users/chiaralu/Desktop/Courses/INSY 695/Group Project/hotel_cancellation_ML2/datasets/X_train.csv')\n",
    "y_train = pd.read_csv('/Users/chiaralu/Desktop/Courses/INSY 695/Group Project/hotel_cancellation_ML2/datasets/y_train.csv')\n",
    "X_test = pd.read_csv('/Users/chiaralu/Desktop/Courses/INSY 695/Group Project/hotel_cancellation_ML2/datasets/X_test.csv')\n",
    "y_test = pd.read_csv('/Users/chiaralu/Desktop/Courses/INSY 695/Group Project/hotel_cancellation_ML2/datasets/y_test.csv')\n",
    "X_val = pd.read_csv('/Users/chiaralu/Desktop/Courses/INSY 695/Group Project/hotel_cancellation_ML2/datasets/X_val.csv')\n",
    "y_val = pd.read_csv('/Users/chiaralu/Desktop/Courses/INSY 695/Group Project/hotel_cancellation_ML2/datasets/y_val.csv')\n"
   ]
  },
  {
   "cell_type": "code",
   "execution_count": 4,
   "metadata": {},
   "outputs": [
    {
     "data": {
      "text/plain": [
       "array([0, 1, 1, ..., 0, 0, 0])"
      ]
     },
     "execution_count": 4,
     "metadata": {},
     "output_type": "execute_result"
    }
   ],
   "source": [
    "# reshape to 1d array\n",
    "\n",
    "X_train.values.ravel()\n",
    "y_train.values.ravel()\n",
    "X_test.values.ravel()\n",
    "y_test.values.ravel()\n",
    "X_val.values.ravel()\n",
    "y_val.values.ravel()"
   ]
  },
  {
   "cell_type": "markdown",
   "metadata": {},
   "source": [
    "## Set MLflow"
   ]
  },
  {
   "cell_type": "code",
   "execution_count": 9,
   "metadata": {},
   "outputs": [
    {
     "name": "stderr",
     "output_type": "stream",
     "text": [
      "2024/04/22 22:35:43 INFO mlflow.tracking.fluent: Autologging successfully enabled for sklearn.\n"
     ]
    }
   ],
   "source": [
    "#!pip install mlflow\n",
    "import mlflow\n",
    "\n",
    "# set the experiment id\n",
    "mlflow.set_experiment(experiment_id=\"936482171255835555\")\n",
    "mlflow.set_tracking_uri(\"http://127.0.0.1:5000\")\n",
    "\n",
    "mlflow.autolog()\n"
   ]
  },
  {
   "cell_type": "code",
   "execution_count": 10,
   "metadata": {},
   "outputs": [
    {
     "name": "stderr",
     "output_type": "stream",
     "text": [
      "/Users/chiaralu/Desktop/Courses/INSY 695/Group Project/hotel_cancellation_ML2/venv/lib/python3.11/site-packages/sklearn/utils/validation.py:1300: DataConversionWarning: A column-vector y was passed when a 1d array was expected. Please change the shape of y to (n_samples, ), for example using ravel().\n",
      "  y = column_or_1d(y, warn=True)\n",
      "2024/04/22 22:35:45 INFO mlflow.utils.autologging_utils: Created MLflow autologging run with ID 'ee824c8eeb284a97ae6357a2e45ae457', which will track hyperparameters, performance metrics, model artifacts, and lineage information for the current sklearn workflow\n",
      "2024/04/22 22:35:48 INFO mlflow.utils.autologging_utils: Created MLflow autologging run with ID '01483d17da92438385eb52b77c0f56a2', which will track hyperparameters, performance metrics, model artifacts, and lineage information for the current sklearn workflow\n",
      "2024/04/22 22:35:49 INFO mlflow.utils.autologging_utils: Created MLflow autologging run with ID '5ea2fb6f5f6d480e93245c0f519b43d7', which will track hyperparameters, performance metrics, model artifacts, and lineage information for the current sklearn workflow\n",
      "2024/04/22 22:35:51 INFO mlflow.utils.autologging_utils: Created MLflow autologging run with ID '06069e910a2743aca88519d14f02385f', which will track hyperparameters, performance metrics, model artifacts, and lineage information for the current sklearn workflow\n",
      "2024/04/22 22:35:51 WARNING mlflow.sklearn.utils: Failed to autolog metrics for Pipeline. Logging error: Expected n_neighbors <= n_samples_fit, but n_neighbors = 100, n_samples_fit = 50, n_samples = 50\n",
      "2024/04/22 22:35:51 WARNING mlflow.sklearn.utils: _get_classifier_artifacts.<locals>.plot_confusion_matrix failed. The artifact training_confusion_matrix will not be recorded. Artifact error: Expected n_neighbors <= n_samples_fit, but n_neighbors = 100, n_samples_fit = 50, n_samples = 50\n",
      "2024/04/22 22:35:51 WARNING mlflow.sklearn.utils: Pipeline.score failed. The 'training_score' metric will not be recorded. Scoring error: Expected n_neighbors <= n_samples_fit, but n_neighbors = 100, n_samples_fit = 50, n_samples = 50\n",
      "2024/04/22 22:35:51 WARNING mlflow.sklearn: Failed to infer model signature: Expected n_neighbors <= n_samples_fit, but n_neighbors = 100, n_samples_fit = 50, n_samples = 5\n",
      "2024/04/22 22:35:52 INFO mlflow.utils.autologging_utils: Created MLflow autologging run with ID '437bcd4c4e6b440b8ea0daeb755f6e39', which will track hyperparameters, performance metrics, model artifacts, and lineage information for the current sklearn workflow\n",
      "2024/04/22 22:35:54 INFO mlflow.utils.autologging_utils: Created MLflow autologging run with ID 'ede503e003d34481aea5c9db8ffc37d2', which will track hyperparameters, performance metrics, model artifacts, and lineage information for the current sklearn workflow\n",
      "2024/04/22 22:35:54 INFO mlflow.utils.autologging_utils: Created MLflow autologging run with ID 'ce5bcf4523c34f838035b368097eef80', which will track hyperparameters, performance metrics, model artifacts, and lineage information for the current sklearn workflow\n",
      "2024/04/22 22:35:54 INFO mlflow.utils.autologging_utils: Created MLflow autologging run with ID 'e665e5169b5c4b54889a4863651caf7f', which will track hyperparameters, performance metrics, model artifacts, and lineage information for the current sklearn workflow\n",
      "2024/04/22 22:35:55 INFO mlflow.utils.autologging_utils: Created MLflow autologging run with ID 'baa339d98c8b4398a8a036008364c58e', which will track hyperparameters, performance metrics, model artifacts, and lineage information for the current sklearn workflow\n",
      "2024/04/22 22:35:55 WARNING mlflow.sklearn.utils: Failed to autolog metrics for Pipeline. Logging error: Expected n_neighbors <= n_samples_fit, but n_neighbors = 73, n_samples_fit = 50, n_samples = 50\n",
      "2024/04/22 22:35:55 WARNING mlflow.sklearn.utils: _get_classifier_artifacts.<locals>.plot_confusion_matrix failed. The artifact training_confusion_matrix will not be recorded. Artifact error: Expected n_neighbors <= n_samples_fit, but n_neighbors = 73, n_samples_fit = 50, n_samples = 50\n",
      "2024/04/22 22:35:55 WARNING mlflow.sklearn.utils: Pipeline.score failed. The 'training_score' metric will not be recorded. Scoring error: Expected n_neighbors <= n_samples_fit, but n_neighbors = 73, n_samples_fit = 50, n_samples = 50\n",
      "2024/04/22 22:35:55 WARNING mlflow.sklearn: Failed to infer model signature: Expected n_neighbors <= n_samples_fit, but n_neighbors = 73, n_samples_fit = 50, n_samples = 5\n",
      "2024/04/22 22:35:57 INFO mlflow.utils.autologging_utils: Created MLflow autologging run with ID '7f46f466ea614b3088b1194a4cf47aa5', which will track hyperparameters, performance metrics, model artifacts, and lineage information for the current sklearn workflow\n",
      "2024/04/22 22:35:57 INFO mlflow.utils.autologging_utils: Created MLflow autologging run with ID '796ae532d78448aca5567f2c6d429879', which will track hyperparameters, performance metrics, model artifacts, and lineage information for the current sklearn workflow\n",
      "2024/04/22 22:35:57 WARNING mlflow.sklearn.utils: Failed to autolog metrics for Pipeline. Logging error: Expected n_neighbors <= n_samples_fit, but n_neighbors = 92, n_samples_fit = 50, n_samples = 50\n",
      "2024/04/22 22:35:57 WARNING mlflow.sklearn.utils: _get_classifier_artifacts.<locals>.plot_confusion_matrix failed. The artifact training_confusion_matrix will not be recorded. Artifact error: Expected n_neighbors <= n_samples_fit, but n_neighbors = 92, n_samples_fit = 50, n_samples = 50\n",
      "2024/04/22 22:35:57 WARNING mlflow.sklearn.utils: Pipeline.score failed. The 'training_score' metric will not be recorded. Scoring error: Expected n_neighbors <= n_samples_fit, but n_neighbors = 92, n_samples_fit = 50, n_samples = 50\n",
      "2024/04/22 22:35:57 WARNING mlflow.sklearn: Failed to infer model signature: Expected n_neighbors <= n_samples_fit, but n_neighbors = 92, n_samples_fit = 50, n_samples = 5\n",
      "2024/04/22 22:35:58 INFO mlflow.utils.autologging_utils: Created MLflow autologging run with ID '5003781e33864af081056d29c1ea94c0', which will track hyperparameters, performance metrics, model artifacts, and lineage information for the current sklearn workflow\n",
      "2024/04/22 22:36:01 INFO mlflow.utils.autologging_utils: Created MLflow autologging run with ID '5d3bac6edbc943b3988aee2cd893dbf1', which will track hyperparameters, performance metrics, model artifacts, and lineage information for the current sklearn workflow\n",
      "2024/04/22 22:36:03 INFO mlflow.utils.autologging_utils: Created MLflow autologging run with ID '0e222292df004f3f9df6f8beed70268e', which will track hyperparameters, performance metrics, model artifacts, and lineage information for the current sklearn workflow\n",
      "2024/04/22 22:36:04 INFO mlflow.utils.autologging_utils: Created MLflow autologging run with ID '805c95d175f247e7afe8191d24960157', which will track hyperparameters, performance metrics, model artifacts, and lineage information for the current sklearn workflow\n",
      "2024/04/22 22:36:06 INFO mlflow.utils.autologging_utils: Created MLflow autologging run with ID '988d26f22c5f47d48ee23c303964d2ae', which will track hyperparameters, performance metrics, model artifacts, and lineage information for the current sklearn workflow\n",
      "2024/04/22 22:36:07 INFO mlflow.utils.autologging_utils: Created MLflow autologging run with ID '8256a3e7ae164a9dbc2ed8f1c165a241', which will track hyperparameters, performance metrics, model artifacts, and lineage information for the current sklearn workflow\n",
      "2024/04/22 22:36:07 WARNING mlflow.sklearn.utils: Failed to autolog metrics for Pipeline. Logging error: Expected n_neighbors <= n_samples_fit, but n_neighbors = 71, n_samples_fit = 50, n_samples = 50\n",
      "2024/04/22 22:36:07 WARNING mlflow.sklearn.utils: _get_classifier_artifacts.<locals>.plot_confusion_matrix failed. The artifact training_confusion_matrix will not be recorded. Artifact error: Expected n_neighbors <= n_samples_fit, but n_neighbors = 71, n_samples_fit = 50, n_samples = 50\n",
      "2024/04/22 22:36:07 WARNING mlflow.sklearn.utils: Pipeline.score failed. The 'training_score' metric will not be recorded. Scoring error: Expected n_neighbors <= n_samples_fit, but n_neighbors = 71, n_samples_fit = 50, n_samples = 50\n",
      "2024/04/22 22:36:07 WARNING mlflow.sklearn: Failed to infer model signature: Expected n_neighbors <= n_samples_fit, but n_neighbors = 71, n_samples_fit = 50, n_samples = 5\n",
      "2024/04/22 22:36:09 INFO mlflow.utils.autologging_utils: Created MLflow autologging run with ID '4488b5afe305492196ffd369c26413ee', which will track hyperparameters, performance metrics, model artifacts, and lineage information for the current sklearn workflow\n",
      "2024/04/22 22:36:10 INFO mlflow.utils.autologging_utils: Created MLflow autologging run with ID '28fd951606394ead9bdd93ed0e5638ea', which will track hyperparameters, performance metrics, model artifacts, and lineage information for the current sklearn workflow\n",
      "2024/04/22 22:36:12 INFO mlflow.utils.autologging_utils: Created MLflow autologging run with ID '449da755a5dc4858ba114f7e03581a25', which will track hyperparameters, performance metrics, model artifacts, and lineage information for the current sklearn workflow\n",
      "2024/04/22 22:36:13 INFO mlflow.utils.autologging_utils: Created MLflow autologging run with ID '75aae1a8093c4cf6a930f6372db7a6db', which will track hyperparameters, performance metrics, model artifacts, and lineage information for the current sklearn workflow\n",
      "2024/04/22 22:36:15 INFO mlflow.utils.autologging_utils: Created MLflow autologging run with ID '925a77b1570041d59086d1a6d9a58bb8', which will track hyperparameters, performance metrics, model artifacts, and lineage information for the current sklearn workflow\n",
      "2024/04/22 22:36:16 INFO mlflow.utils.autologging_utils: Created MLflow autologging run with ID '07839b8cd747477889f1f778942fb0ac', which will track hyperparameters, performance metrics, model artifacts, and lineage information for the current sklearn workflow\n",
      "2024/04/22 22:36:16 INFO mlflow.utils.autologging_utils: Created MLflow autologging run with ID 'a53f5051981443c38482837c8e2316d2', which will track hyperparameters, performance metrics, model artifacts, and lineage information for the current sklearn workflow\n"
     ]
    },
    {
     "name": "stdout",
     "output_type": "stream",
     "text": [
      "Optimization Progress:  25%|██▌       | 5/20 [03:22<10:06, 40.42s/pipeline]"
     ]
    },
    {
     "name": "stderr",
     "output_type": "stream",
     "text": [
      "2024/04/22 22:39:42 INFO mlflow.utils.autologging_utils: Created MLflow autologging run with ID '2c3cf966c34c43459b1e27f14c08308e', which will track hyperparameters, performance metrics, model artifacts, and lineage information for the current sklearn workflow\n",
      "2024/04/22 22:39:43 INFO mlflow.utils.autologging_utils: Created MLflow autologging run with ID 'e6a23405f731442ab6f59f0a57e8696b', which will track hyperparameters, performance metrics, model artifacts, and lineage information for the current sklearn workflow\n",
      "2024/04/22 22:39:46 INFO mlflow.utils.autologging_utils: Created MLflow autologging run with ID 'd53e4dcf5e7c46469445206adb121936', which will track hyperparameters, performance metrics, model artifacts, and lineage information for the current sklearn workflow\n",
      "2024/04/22 22:39:46 WARNING mlflow.sklearn.utils: Failed to autolog metrics for Pipeline. Logging error: Expected n_neighbors <= n_samples_fit, but n_neighbors = 74, n_samples_fit = 50, n_samples = 50\n",
      "2024/04/22 22:39:46 WARNING mlflow.sklearn.utils: _get_classifier_artifacts.<locals>.plot_confusion_matrix failed. The artifact training_confusion_matrix will not be recorded. Artifact error: Expected n_neighbors <= n_samples_fit, but n_neighbors = 74, n_samples_fit = 50, n_samples = 50\n",
      "2024/04/22 22:39:46 WARNING mlflow.sklearn.utils: Pipeline.score failed. The 'training_score' metric will not be recorded. Scoring error: Expected n_neighbors <= n_samples_fit, but n_neighbors = 74, n_samples_fit = 50, n_samples = 50\n",
      "2024/04/22 22:39:46 WARNING mlflow.sklearn: Failed to infer model signature: Expected n_neighbors <= n_samples_fit, but n_neighbors = 74, n_samples_fit = 50, n_samples = 5\n"
     ]
    },
    {
     "name": "stdout",
     "output_type": "stream",
     "text": [
      "                                                                           \n",
      "4.03 minutes have elapsed. TPOT will close down.          \n",
      "TPOT closed during evaluation in one generation.\n",
      "WARNING: TPOT may not provide a good pipeline if TPOT is stopped/interrupted in a early generation.\n",
      "                                                          \n",
      "                                                          \n",
      "TPOT closed prematurely. Will use the current best pipeline.\n",
      "                                                          "
     ]
    },
    {
     "name": "stderr",
     "output_type": "stream",
     "text": [
      "2024/04/22 22:39:47 INFO mlflow.utils.autologging_utils: Created MLflow autologging run with ID '30b8ee36b7b1419693d8a80d87b15f41', which will track hyperparameters, performance metrics, model artifacts, and lineage information for the current sklearn workflow\n"
     ]
    },
    {
     "name": "stdout",
     "output_type": "stream",
     "text": [
      "\r"
     ]
    },
    {
     "name": "stderr",
     "output_type": "stream",
     "text": [
      "2024/04/22 22:39:50 INFO mlflow.utils.autologging_utils: Created MLflow autologging run with ID 'eba66cc8c1964e48988463e03600e107', which will track hyperparameters, performance metrics, model artifacts, and lineage information for the current sklearn workflow\n"
     ]
    },
    {
     "name": "stdout",
     "output_type": "stream",
     "text": [
      "\n",
      "Best pipeline: DecisionTreeClassifier(input_matrix, criterion=gini, max_depth=7, min_samples_leaf=20, min_samples_split=4)\n"
     ]
    },
    {
     "data": {
      "text/html": [
       "<style>#sk-container-id-26 {\n",
       "  /* Definition of color scheme common for light and dark mode */\n",
       "  --sklearn-color-text: black;\n",
       "  --sklearn-color-line: gray;\n",
       "  /* Definition of color scheme for unfitted estimators */\n",
       "  --sklearn-color-unfitted-level-0: #fff5e6;\n",
       "  --sklearn-color-unfitted-level-1: #f6e4d2;\n",
       "  --sklearn-color-unfitted-level-2: #ffe0b3;\n",
       "  --sklearn-color-unfitted-level-3: chocolate;\n",
       "  /* Definition of color scheme for fitted estimators */\n",
       "  --sklearn-color-fitted-level-0: #f0f8ff;\n",
       "  --sklearn-color-fitted-level-1: #d4ebff;\n",
       "  --sklearn-color-fitted-level-2: #b3dbfd;\n",
       "  --sklearn-color-fitted-level-3: cornflowerblue;\n",
       "\n",
       "  /* Specific color for light theme */\n",
       "  --sklearn-color-text-on-default-background: var(--sg-text-color, var(--theme-code-foreground, var(--jp-content-font-color1, black)));\n",
       "  --sklearn-color-background: var(--sg-background-color, var(--theme-background, var(--jp-layout-color0, white)));\n",
       "  --sklearn-color-border-box: var(--sg-text-color, var(--theme-code-foreground, var(--jp-content-font-color1, black)));\n",
       "  --sklearn-color-icon: #696969;\n",
       "\n",
       "  @media (prefers-color-scheme: dark) {\n",
       "    /* Redefinition of color scheme for dark theme */\n",
       "    --sklearn-color-text-on-default-background: var(--sg-text-color, var(--theme-code-foreground, var(--jp-content-font-color1, white)));\n",
       "    --sklearn-color-background: var(--sg-background-color, var(--theme-background, var(--jp-layout-color0, #111)));\n",
       "    --sklearn-color-border-box: var(--sg-text-color, var(--theme-code-foreground, var(--jp-content-font-color1, white)));\n",
       "    --sklearn-color-icon: #878787;\n",
       "  }\n",
       "}\n",
       "\n",
       "#sk-container-id-26 {\n",
       "  color: var(--sklearn-color-text);\n",
       "}\n",
       "\n",
       "#sk-container-id-26 pre {\n",
       "  padding: 0;\n",
       "}\n",
       "\n",
       "#sk-container-id-26 input.sk-hidden--visually {\n",
       "  border: 0;\n",
       "  clip: rect(1px 1px 1px 1px);\n",
       "  clip: rect(1px, 1px, 1px, 1px);\n",
       "  height: 1px;\n",
       "  margin: -1px;\n",
       "  overflow: hidden;\n",
       "  padding: 0;\n",
       "  position: absolute;\n",
       "  width: 1px;\n",
       "}\n",
       "\n",
       "#sk-container-id-26 div.sk-dashed-wrapped {\n",
       "  border: 1px dashed var(--sklearn-color-line);\n",
       "  margin: 0 0.4em 0.5em 0.4em;\n",
       "  box-sizing: border-box;\n",
       "  padding-bottom: 0.4em;\n",
       "  background-color: var(--sklearn-color-background);\n",
       "}\n",
       "\n",
       "#sk-container-id-26 div.sk-container {\n",
       "  /* jupyter's `normalize.less` sets `[hidden] { display: none; }`\n",
       "     but bootstrap.min.css set `[hidden] { display: none !important; }`\n",
       "     so we also need the `!important` here to be able to override the\n",
       "     default hidden behavior on the sphinx rendered scikit-learn.org.\n",
       "     See: https://github.com/scikit-learn/scikit-learn/issues/21755 */\n",
       "  display: inline-block !important;\n",
       "  position: relative;\n",
       "}\n",
       "\n",
       "#sk-container-id-26 div.sk-text-repr-fallback {\n",
       "  display: none;\n",
       "}\n",
       "\n",
       "div.sk-parallel-item,\n",
       "div.sk-serial,\n",
       "div.sk-item {\n",
       "  /* draw centered vertical line to link estimators */\n",
       "  background-image: linear-gradient(var(--sklearn-color-text-on-default-background), var(--sklearn-color-text-on-default-background));\n",
       "  background-size: 2px 100%;\n",
       "  background-repeat: no-repeat;\n",
       "  background-position: center center;\n",
       "}\n",
       "\n",
       "/* Parallel-specific style estimator block */\n",
       "\n",
       "#sk-container-id-26 div.sk-parallel-item::after {\n",
       "  content: \"\";\n",
       "  width: 100%;\n",
       "  border-bottom: 2px solid var(--sklearn-color-text-on-default-background);\n",
       "  flex-grow: 1;\n",
       "}\n",
       "\n",
       "#sk-container-id-26 div.sk-parallel {\n",
       "  display: flex;\n",
       "  align-items: stretch;\n",
       "  justify-content: center;\n",
       "  background-color: var(--sklearn-color-background);\n",
       "  position: relative;\n",
       "}\n",
       "\n",
       "#sk-container-id-26 div.sk-parallel-item {\n",
       "  display: flex;\n",
       "  flex-direction: column;\n",
       "}\n",
       "\n",
       "#sk-container-id-26 div.sk-parallel-item:first-child::after {\n",
       "  align-self: flex-end;\n",
       "  width: 50%;\n",
       "}\n",
       "\n",
       "#sk-container-id-26 div.sk-parallel-item:last-child::after {\n",
       "  align-self: flex-start;\n",
       "  width: 50%;\n",
       "}\n",
       "\n",
       "#sk-container-id-26 div.sk-parallel-item:only-child::after {\n",
       "  width: 0;\n",
       "}\n",
       "\n",
       "/* Serial-specific style estimator block */\n",
       "\n",
       "#sk-container-id-26 div.sk-serial {\n",
       "  display: flex;\n",
       "  flex-direction: column;\n",
       "  align-items: center;\n",
       "  background-color: var(--sklearn-color-background);\n",
       "  padding-right: 1em;\n",
       "  padding-left: 1em;\n",
       "}\n",
       "\n",
       "\n",
       "/* Toggleable style: style used for estimator/Pipeline/ColumnTransformer box that is\n",
       "clickable and can be expanded/collapsed.\n",
       "- Pipeline and ColumnTransformer use this feature and define the default style\n",
       "- Estimators will overwrite some part of the style using the `sk-estimator` class\n",
       "*/\n",
       "\n",
       "/* Pipeline and ColumnTransformer style (default) */\n",
       "\n",
       "#sk-container-id-26 div.sk-toggleable {\n",
       "  /* Default theme specific background. It is overwritten whether we have a\n",
       "  specific estimator or a Pipeline/ColumnTransformer */\n",
       "  background-color: var(--sklearn-color-background);\n",
       "}\n",
       "\n",
       "/* Toggleable label */\n",
       "#sk-container-id-26 label.sk-toggleable__label {\n",
       "  cursor: pointer;\n",
       "  display: block;\n",
       "  width: 100%;\n",
       "  margin-bottom: 0;\n",
       "  padding: 0.5em;\n",
       "  box-sizing: border-box;\n",
       "  text-align: center;\n",
       "}\n",
       "\n",
       "#sk-container-id-26 label.sk-toggleable__label-arrow:before {\n",
       "  /* Arrow on the left of the label */\n",
       "  content: \"▸\";\n",
       "  float: left;\n",
       "  margin-right: 0.25em;\n",
       "  color: var(--sklearn-color-icon);\n",
       "}\n",
       "\n",
       "#sk-container-id-26 label.sk-toggleable__label-arrow:hover:before {\n",
       "  color: var(--sklearn-color-text);\n",
       "}\n",
       "\n",
       "/* Toggleable content - dropdown */\n",
       "\n",
       "#sk-container-id-26 div.sk-toggleable__content {\n",
       "  max-height: 0;\n",
       "  max-width: 0;\n",
       "  overflow: hidden;\n",
       "  text-align: left;\n",
       "  /* unfitted */\n",
       "  background-color: var(--sklearn-color-unfitted-level-0);\n",
       "}\n",
       "\n",
       "#sk-container-id-26 div.sk-toggleable__content.fitted {\n",
       "  /* fitted */\n",
       "  background-color: var(--sklearn-color-fitted-level-0);\n",
       "}\n",
       "\n",
       "#sk-container-id-26 div.sk-toggleable__content pre {\n",
       "  margin: 0.2em;\n",
       "  border-radius: 0.25em;\n",
       "  color: var(--sklearn-color-text);\n",
       "  /* unfitted */\n",
       "  background-color: var(--sklearn-color-unfitted-level-0);\n",
       "}\n",
       "\n",
       "#sk-container-id-26 div.sk-toggleable__content.fitted pre {\n",
       "  /* unfitted */\n",
       "  background-color: var(--sklearn-color-fitted-level-0);\n",
       "}\n",
       "\n",
       "#sk-container-id-26 input.sk-toggleable__control:checked~div.sk-toggleable__content {\n",
       "  /* Expand drop-down */\n",
       "  max-height: 200px;\n",
       "  max-width: 100%;\n",
       "  overflow: auto;\n",
       "}\n",
       "\n",
       "#sk-container-id-26 input.sk-toggleable__control:checked~label.sk-toggleable__label-arrow:before {\n",
       "  content: \"▾\";\n",
       "}\n",
       "\n",
       "/* Pipeline/ColumnTransformer-specific style */\n",
       "\n",
       "#sk-container-id-26 div.sk-label input.sk-toggleable__control:checked~label.sk-toggleable__label {\n",
       "  color: var(--sklearn-color-text);\n",
       "  background-color: var(--sklearn-color-unfitted-level-2);\n",
       "}\n",
       "\n",
       "#sk-container-id-26 div.sk-label.fitted input.sk-toggleable__control:checked~label.sk-toggleable__label {\n",
       "  background-color: var(--sklearn-color-fitted-level-2);\n",
       "}\n",
       "\n",
       "/* Estimator-specific style */\n",
       "\n",
       "/* Colorize estimator box */\n",
       "#sk-container-id-26 div.sk-estimator input.sk-toggleable__control:checked~label.sk-toggleable__label {\n",
       "  /* unfitted */\n",
       "  background-color: var(--sklearn-color-unfitted-level-2);\n",
       "}\n",
       "\n",
       "#sk-container-id-26 div.sk-estimator.fitted input.sk-toggleable__control:checked~label.sk-toggleable__label {\n",
       "  /* fitted */\n",
       "  background-color: var(--sklearn-color-fitted-level-2);\n",
       "}\n",
       "\n",
       "#sk-container-id-26 div.sk-label label.sk-toggleable__label,\n",
       "#sk-container-id-26 div.sk-label label {\n",
       "  /* The background is the default theme color */\n",
       "  color: var(--sklearn-color-text-on-default-background);\n",
       "}\n",
       "\n",
       "/* On hover, darken the color of the background */\n",
       "#sk-container-id-26 div.sk-label:hover label.sk-toggleable__label {\n",
       "  color: var(--sklearn-color-text);\n",
       "  background-color: var(--sklearn-color-unfitted-level-2);\n",
       "}\n",
       "\n",
       "/* Label box, darken color on hover, fitted */\n",
       "#sk-container-id-26 div.sk-label.fitted:hover label.sk-toggleable__label.fitted {\n",
       "  color: var(--sklearn-color-text);\n",
       "  background-color: var(--sklearn-color-fitted-level-2);\n",
       "}\n",
       "\n",
       "/* Estimator label */\n",
       "\n",
       "#sk-container-id-26 div.sk-label label {\n",
       "  font-family: monospace;\n",
       "  font-weight: bold;\n",
       "  display: inline-block;\n",
       "  line-height: 1.2em;\n",
       "}\n",
       "\n",
       "#sk-container-id-26 div.sk-label-container {\n",
       "  text-align: center;\n",
       "}\n",
       "\n",
       "/* Estimator-specific */\n",
       "#sk-container-id-26 div.sk-estimator {\n",
       "  font-family: monospace;\n",
       "  border: 1px dotted var(--sklearn-color-border-box);\n",
       "  border-radius: 0.25em;\n",
       "  box-sizing: border-box;\n",
       "  margin-bottom: 0.5em;\n",
       "  /* unfitted */\n",
       "  background-color: var(--sklearn-color-unfitted-level-0);\n",
       "}\n",
       "\n",
       "#sk-container-id-26 div.sk-estimator.fitted {\n",
       "  /* fitted */\n",
       "  background-color: var(--sklearn-color-fitted-level-0);\n",
       "}\n",
       "\n",
       "/* on hover */\n",
       "#sk-container-id-26 div.sk-estimator:hover {\n",
       "  /* unfitted */\n",
       "  background-color: var(--sklearn-color-unfitted-level-2);\n",
       "}\n",
       "\n",
       "#sk-container-id-26 div.sk-estimator.fitted:hover {\n",
       "  /* fitted */\n",
       "  background-color: var(--sklearn-color-fitted-level-2);\n",
       "}\n",
       "\n",
       "/* Specification for estimator info (e.g. \"i\" and \"?\") */\n",
       "\n",
       "/* Common style for \"i\" and \"?\" */\n",
       "\n",
       ".sk-estimator-doc-link,\n",
       "a:link.sk-estimator-doc-link,\n",
       "a:visited.sk-estimator-doc-link {\n",
       "  float: right;\n",
       "  font-size: smaller;\n",
       "  line-height: 1em;\n",
       "  font-family: monospace;\n",
       "  background-color: var(--sklearn-color-background);\n",
       "  border-radius: 1em;\n",
       "  height: 1em;\n",
       "  width: 1em;\n",
       "  text-decoration: none !important;\n",
       "  margin-left: 1ex;\n",
       "  /* unfitted */\n",
       "  border: var(--sklearn-color-unfitted-level-1) 1pt solid;\n",
       "  color: var(--sklearn-color-unfitted-level-1);\n",
       "}\n",
       "\n",
       ".sk-estimator-doc-link.fitted,\n",
       "a:link.sk-estimator-doc-link.fitted,\n",
       "a:visited.sk-estimator-doc-link.fitted {\n",
       "  /* fitted */\n",
       "  border: var(--sklearn-color-fitted-level-1) 1pt solid;\n",
       "  color: var(--sklearn-color-fitted-level-1);\n",
       "}\n",
       "\n",
       "/* On hover */\n",
       "div.sk-estimator:hover .sk-estimator-doc-link:hover,\n",
       ".sk-estimator-doc-link:hover,\n",
       "div.sk-label-container:hover .sk-estimator-doc-link:hover,\n",
       ".sk-estimator-doc-link:hover {\n",
       "  /* unfitted */\n",
       "  background-color: var(--sklearn-color-unfitted-level-3);\n",
       "  color: var(--sklearn-color-background);\n",
       "  text-decoration: none;\n",
       "}\n",
       "\n",
       "div.sk-estimator.fitted:hover .sk-estimator-doc-link.fitted:hover,\n",
       ".sk-estimator-doc-link.fitted:hover,\n",
       "div.sk-label-container:hover .sk-estimator-doc-link.fitted:hover,\n",
       ".sk-estimator-doc-link.fitted:hover {\n",
       "  /* fitted */\n",
       "  background-color: var(--sklearn-color-fitted-level-3);\n",
       "  color: var(--sklearn-color-background);\n",
       "  text-decoration: none;\n",
       "}\n",
       "\n",
       "/* Span, style for the box shown on hovering the info icon */\n",
       ".sk-estimator-doc-link span {\n",
       "  display: none;\n",
       "  z-index: 9999;\n",
       "  position: relative;\n",
       "  font-weight: normal;\n",
       "  right: .2ex;\n",
       "  padding: .5ex;\n",
       "  margin: .5ex;\n",
       "  width: min-content;\n",
       "  min-width: 20ex;\n",
       "  max-width: 50ex;\n",
       "  color: var(--sklearn-color-text);\n",
       "  box-shadow: 2pt 2pt 4pt #999;\n",
       "  /* unfitted */\n",
       "  background: var(--sklearn-color-unfitted-level-0);\n",
       "  border: .5pt solid var(--sklearn-color-unfitted-level-3);\n",
       "}\n",
       "\n",
       ".sk-estimator-doc-link.fitted span {\n",
       "  /* fitted */\n",
       "  background: var(--sklearn-color-fitted-level-0);\n",
       "  border: var(--sklearn-color-fitted-level-3);\n",
       "}\n",
       "\n",
       ".sk-estimator-doc-link:hover span {\n",
       "  display: block;\n",
       "}\n",
       "\n",
       "/* \"?\"-specific style due to the `<a>` HTML tag */\n",
       "\n",
       "#sk-container-id-26 a.estimator_doc_link {\n",
       "  float: right;\n",
       "  font-size: 1rem;\n",
       "  line-height: 1em;\n",
       "  font-family: monospace;\n",
       "  background-color: var(--sklearn-color-background);\n",
       "  border-radius: 1rem;\n",
       "  height: 1rem;\n",
       "  width: 1rem;\n",
       "  text-decoration: none;\n",
       "  /* unfitted */\n",
       "  color: var(--sklearn-color-unfitted-level-1);\n",
       "  border: var(--sklearn-color-unfitted-level-1) 1pt solid;\n",
       "}\n",
       "\n",
       "#sk-container-id-26 a.estimator_doc_link.fitted {\n",
       "  /* fitted */\n",
       "  border: var(--sklearn-color-fitted-level-1) 1pt solid;\n",
       "  color: var(--sklearn-color-fitted-level-1);\n",
       "}\n",
       "\n",
       "/* On hover */\n",
       "#sk-container-id-26 a.estimator_doc_link:hover {\n",
       "  /* unfitted */\n",
       "  background-color: var(--sklearn-color-unfitted-level-3);\n",
       "  color: var(--sklearn-color-background);\n",
       "  text-decoration: none;\n",
       "}\n",
       "\n",
       "#sk-container-id-26 a.estimator_doc_link.fitted:hover {\n",
       "  /* fitted */\n",
       "  background-color: var(--sklearn-color-fitted-level-3);\n",
       "}\n",
       "</style><div id=\"sk-container-id-26\" class=\"sk-top-container\"><div class=\"sk-text-repr-fallback\"><pre>TPOTClassifier(config_dict=&#x27;TPOT light&#x27;, generations=20, max_eval_time_mins=3,\n",
       "               max_time_mins=3, mutation_rate=0.05, n_jobs=-1,\n",
       "               population_size=20, random_state=42, scoring=&#x27;roc_auc&#x27;,\n",
       "               verbosity=2)</pre><b>In a Jupyter environment, please rerun this cell to show the HTML representation or trust the notebook. <br />On GitHub, the HTML representation is unable to render, please try loading this page with nbviewer.org.</b></div><div class=\"sk-container\" hidden><div class=\"sk-item\"><div class=\"sk-estimator fitted sk-toggleable\"><input class=\"sk-toggleable__control sk-hidden--visually\" id=\"sk-estimator-id-64\" type=\"checkbox\" checked><label for=\"sk-estimator-id-64\" class=\"sk-toggleable__label fitted sk-toggleable__label-arrow fitted\">&nbsp;TPOTClassifier<span class=\"sk-estimator-doc-link fitted\">i<span>Fitted</span></span></label><div class=\"sk-toggleable__content fitted\"><pre>TPOTClassifier(config_dict=&#x27;TPOT light&#x27;, generations=20, max_eval_time_mins=3,\n",
       "               max_time_mins=3, mutation_rate=0.05, n_jobs=-1,\n",
       "               population_size=20, random_state=42, scoring=&#x27;roc_auc&#x27;,\n",
       "               verbosity=2)</pre></div> </div></div></div></div>"
      ],
      "text/plain": [
       "TPOTClassifier(config_dict='TPOT light', generations=20, max_eval_time_mins=3,\n",
       "               max_time_mins=3, mutation_rate=0.05, n_jobs=-1,\n",
       "               population_size=20, random_state=42, scoring='roc_auc',\n",
       "               verbosity=2)"
      ]
     },
     "execution_count": 10,
     "metadata": {},
     "output_type": "execute_result"
    }
   ],
   "source": [
    "tpot = TPOTClassifier(generations=20, population_size=20, mutation_rate = 0.05, verbosity=2, scoring = 'roc_auc',\n",
    "                      cv = 5, n_jobs=-1, max_time_mins = 3, max_eval_time_mins = 3,\n",
    "                      random_state=42, config_dict='TPOT light')\n",
    "tpot.fit(X_train, y_train)"
   ]
  },
  {
   "cell_type": "code",
   "execution_count": 11,
   "metadata": {},
   "outputs": [
    {
     "name": "stderr",
     "output_type": "stream",
     "text": [
      "/Users/chiaralu/Desktop/Courses/INSY 695/Group Project/hotel_cancellation_ML2/venv/lib/python3.11/site-packages/sklearn/utils/validation.py:1300: DataConversionWarning: A column-vector y was passed when a 1d array was expected. Please change the shape of y to (n_samples, ), for example using ravel().\n",
      "  y = column_or_1d(y, warn=True)\n",
      "2024/04/22 22:50:39 WARNING mlflow.utils.autologging_utils: MLflow autologging encountered a warning: \"/Users/chiaralu/Desktop/Courses/INSY 695/Group Project/hotel_cancellation_ML2/venv/lib/python3.11/site-packages/mlflow/data/digest_utils.py:26: FutureWarning: DataFrame.applymap has been deprecated. Use DataFrame.map instead.\"\n"
     ]
    },
    {
     "name": "stdout",
     "output_type": "stream",
     "text": [
      "ROC-AUC score: 0.8953535723254082\n"
     ]
    }
   ],
   "source": [
    "print(f\"ROC-AUC score: {tpot.score(X_test, y_test)}\")"
   ]
  },
  {
   "cell_type": "code",
   "execution_count": 13,
   "metadata": {},
   "outputs": [
    {
     "name": "stdout",
     "output_type": "stream",
     "text": [
      "Pipeline(steps=[('decisiontreeclassifier',\n",
      "                 DecisionTreeClassifier(max_depth=7, min_samples_leaf=20,\n",
      "                                        min_samples_split=4,\n",
      "                                        random_state=42))])\n"
     ]
    }
   ],
   "source": [
    "# print best pipeline\n",
    "print(tpot.fitted_pipeline_)"
   ]
  },
  {
   "cell_type": "code",
   "execution_count": 12,
   "metadata": {},
   "outputs": [],
   "source": [
    "tpot.export('tpot_pipeline.py')"
   ]
  },
  {
   "cell_type": "markdown",
   "metadata": {},
   "source": [
    "## Neural network classifier using TPOT-NN"
   ]
  },
  {
   "cell_type": "code",
   "execution_count": 14,
   "metadata": {},
   "outputs": [],
   "source": [
    "from tpot import TPOTClassifier\n",
    "from sklearn.datasets import make_blobs"
   ]
  },
  {
   "cell_type": "code",
   "execution_count": 14,
   "metadata": {},
   "outputs": [
    {
     "name": "stderr",
     "output_type": "stream",
     "text": [
      "2024/04/22 23:11:54 INFO mlflow.tracking.fluent: Autologging successfully enabled for sklearn.\n"
     ]
    }
   ],
   "source": [
    "# start new MLflow session\n",
    "mlflow.set_experiment(experiment_id=\"443836447855555990\")\n",
    "mlflow.set_tracking_uri(\"http://127.0.0.1:5000\")\n",
    "\n",
    "mlflow.autolog()"
   ]
  },
  {
   "cell_type": "code",
   "execution_count": 15,
   "metadata": {},
   "outputs": [
    {
     "name": "stderr",
     "output_type": "stream",
     "text": [
      "2024/04/22 23:11:59 INFO mlflow.tracking.fluent: Autologging successfully enabled for xgboost.\n",
      "/Users/chiaralu/Desktop/Courses/INSY 695/Group Project/hotel_cancellation_ML2/venv/lib/python3.11/site-packages/sklearn/utils/validation.py:1300: DataConversionWarning: A column-vector y was passed when a 1d array was expected. Please change the shape of y to (n_samples, ), for example using ravel().\n",
      "  y = column_or_1d(y, warn=True)\n",
      "2024/04/22 23:11:59 INFO mlflow.utils.autologging_utils: Created MLflow autologging run with ID '22539f0c67ce4ad8a1f94cbe32bd28e7', which will track hyperparameters, performance metrics, model artifacts, and lineage information for the current sklearn workflow\n",
      "2024/04/22 23:11:59 WARNING mlflow.tracking.fluent: Exception raised while enabling autologging for transformers: Failed to import transformers.trainer because of the following error (look up to see its traceback):\n",
      "Failed to import transformers.integrations.integration_utils because of the following error (look up to see its traceback):\n",
      "cannot import name 'allow_in_graph' from partially initialized module 'torch._dynamo' (most likely due to a circular import) (/Users/chiaralu/Desktop/Courses/INSY 695/Group Project/hotel_cancellation_ML2/venv/lib/python3.11/site-packages/torch/_dynamo/__init__.py)\n",
      "Exception ignored in: <function _MultiProcessingDataLoaderIter.__del__ at 0x28b432480>\n",
      "Traceback (most recent call last):\n",
      "  File \"/Users/chiaralu/Desktop/Courses/INSY 695/Group Project/hotel_cancellation_ML2/venv/lib/python3.11/site-packages/torch/utils/data/dataloader.py\", line 1478, in __del__\n",
      "    self._shutdown_workers()\n",
      "  File \"/Users/chiaralu/Desktop/Courses/INSY 695/Group Project/hotel_cancellation_ML2/venv/lib/python3.11/site-packages/torch/utils/data/dataloader.py\", line 1442, in _shutdown_workers\n",
      "    w.join(timeout=_utils.MP_STATUS_CHECK_INTERVAL)\n",
      "  File \"/Applications/anaconda3/lib/python3.11/multiprocessing/process.py\", line 149, in join\n",
      "    res = self._popen.wait(timeout)\n",
      "          ^^^^^^^^^^^^^^^^^^^^^^^^^\n",
      "  File \"/Applications/anaconda3/lib/python3.11/multiprocessing/popen_fork.py\", line 40, in wait\n",
      "    if not wait([self.sentinel], timeout):\n",
      "           ^^^^^^^^^^^^^^^^^^^^^^^^^^^^^^\n",
      "  File \"/Applications/anaconda3/lib/python3.11/multiprocessing/connection.py\", line 930, in wait\n",
      "    ready = selector.select(timeout)\n",
      "            ^^^^^^^^^^^^^^^^^^^^^^^^\n",
      "  File \"/Applications/anaconda3/lib/python3.11/selectors.py\", line 415, in select\n",
      "    fd_event_list = self._selector.poll(timeout)\n",
      "                    ^^^^^^^^^^^^^^^^^^^^^^^^^^^^\n",
      "stopit.utils.TimeoutException: \n",
      "2024/04/22 23:12:19 INFO mlflow.utils.autologging_utils: Created MLflow autologging run with ID 'd71adc51654e40edbc9862b94afaf409', which will track hyperparameters, performance metrics, model artifacts, and lineage information for the current sklearn workflow\n",
      "2024/04/22 23:12:19 INFO mlflow.utils.autologging_utils: Created MLflow autologging run with ID 'cc710d86d890439d8caf9058ee3db323', which will track hyperparameters, performance metrics, model artifacts, and lineage information for the current sklearn workflow\n",
      "2024/04/22 23:12:22 INFO mlflow.utils.autologging_utils: Created MLflow autologging run with ID '6b4f03d8da2e4141a1f2228a245f765f', which will track hyperparameters, performance metrics, model artifacts, and lineage information for the current sklearn workflow\n",
      "2024/04/22 23:12:25 INFO mlflow.utils.autologging_utils: Created MLflow autologging run with ID '44eb1bea83fe40ae9948ad577aaf5f83', which will track hyperparameters, performance metrics, model artifacts, and lineage information for the current sklearn workflow\n",
      "2024/04/22 23:12:25 INFO mlflow.utils.autologging_utils: Created MLflow autologging run with ID '305beb73771f4b6b9912cb45ee6ce297', which will track hyperparameters, performance metrics, model artifacts, and lineage information for the current sklearn workflow\n",
      "2024/04/22 23:12:25 INFO mlflow.utils.autologging_utils: Created MLflow autologging run with ID '96723d9cd4c04b9689099f6d58ff0e12', which will track hyperparameters, performance metrics, model artifacts, and lineage information for the current sklearn workflow\n",
      "2024/04/22 23:12:28 INFO mlflow.utils.autologging_utils: Created MLflow autologging run with ID '601a32f4c47f4a769f0f81f124f81a01', which will track hyperparameters, performance metrics, model artifacts, and lineage information for the current sklearn workflow\n"
     ]
    },
    {
     "name": "stdout",
     "output_type": "stream",
     "text": [
      "Optimization Progress:  20%|██        | 1/5 [00:43<02:55, 43.83s/pipeline]"
     ]
    },
    {
     "name": "stderr",
     "output_type": "stream",
     "text": [
      "2024/04/22 23:13:13 INFO mlflow.utils.autologging_utils: Created MLflow autologging run with ID '2689e039314c4bf7a57b427ea157c7fb', which will track hyperparameters, performance metrics, model artifacts, and lineage information for the current sklearn workflow\n",
      "2024/04/22 23:13:23 INFO mlflow.utils.autologging_utils: Created MLflow autologging run with ID 'b77b1b04e2314fe8ae8644bc62c0dff1', which will track hyperparameters, performance metrics, model artifacts, and lineage information for the current sklearn workflow\n",
      "2024/04/22 23:13:34 INFO mlflow.utils.autologging_utils: Created MLflow autologging run with ID '96988c115e494d71980e333c92bea0f3', which will track hyperparameters, performance metrics, model artifacts, and lineage information for the current sklearn workflow\n",
      "Exception ignored in: <function _MultiProcessingDataLoaderIter.__del__ at 0x28b432480>\n",
      "Traceback (most recent call last):\n",
      "  File \"/Users/chiaralu/Desktop/Courses/INSY 695/Group Project/hotel_cancellation_ML2/venv/lib/python3.11/site-packages/torch/utils/data/dataloader.py\", line 1478, in __del__\n",
      "    self._shutdown_workers()\n",
      "  File \"/Users/chiaralu/Desktop/Courses/INSY 695/Group Project/hotel_cancellation_ML2/venv/lib/python3.11/site-packages/torch/utils/data/dataloader.py\", line 1442, in _shutdown_workers\n",
      "    w.join(timeout=_utils.MP_STATUS_CHECK_INTERVAL)\n",
      "  File \"/Applications/anaconda3/lib/python3.11/multiprocessing/process.py\", line 149, in join\n",
      "    res = self._popen.wait(timeout)\n",
      "          ^^^^^^^^^^^^^^^^^^^^^^^^^\n",
      "  File \"/Applications/anaconda3/lib/python3.11/multiprocessing/popen_fork.py\", line 40, in wait\n",
      "    if not wait([self.sentinel], timeout):\n",
      "           ^^^^^^^^^^^^^^^^^^^^^^^^^^^^^^\n",
      "  File \"/Applications/anaconda3/lib/python3.11/multiprocessing/connection.py\", line 930, in wait\n",
      "    ready = selector.select(timeout)\n",
      "            ^^^^^^^^^^^^^^^^^^^^^^^^\n",
      "  File \"/Applications/anaconda3/lib/python3.11/selectors.py\", line 415, in select\n",
      "    fd_event_list = self._selector.poll(timeout)\n",
      "                    ^^^^^^^^^^^^^^^^^^^^^^^^^^^^\n",
      "stopit.utils.TimeoutException: \n",
      "2024/04/22 23:13:45 INFO mlflow.utils.autologging_utils: Created MLflow autologging run with ID '8c28f2cb39154a6d9fac83454f858783', which will track hyperparameters, performance metrics, model artifacts, and lineage information for the current sklearn workflow\n",
      "2024/04/22 23:13:54 INFO mlflow.utils.autologging_utils: Created MLflow autologging run with ID 'b560ef37fbd14b5a81ef4f71a498d988', which will track hyperparameters, performance metrics, model artifacts, and lineage information for the current sklearn workflow\n"
     ]
    },
    {
     "name": "stdout",
     "output_type": "stream",
     "text": [
      "                                                                           \n",
      "Generation 1 - Current best internal CV score: 0.9310294569353934\n",
      "Optimization Progress: 100%|██████████| 10/10 [01:35<00:00, 14.03s/pipeline]"
     ]
    },
    {
     "name": "stderr",
     "output_type": "stream",
     "text": [
      "2024/04/22 23:14:05 INFO mlflow.utils.autologging_utils: Created MLflow autologging run with ID '1f9d8c5a4ea7469cb158aa7c1adb58a3', which will track hyperparameters, performance metrics, model artifacts, and lineage information for the current sklearn workflow\n",
      "2024/04/22 23:14:06 INFO mlflow.utils.autologging_utils: Created MLflow autologging run with ID '568c9167206548e38cb3c78f56037a29', which will track hyperparameters, performance metrics, model artifacts, and lineage information for the current sklearn workflow\n",
      "2024/04/22 23:14:09 INFO mlflow.utils.autologging_utils: Created MLflow autologging run with ID 'bcb2b541a40f45c6a83df23e70bce8fd', which will track hyperparameters, performance metrics, model artifacts, and lineage information for the current sklearn workflow\n",
      "2024/04/22 23:14:11 INFO mlflow.utils.autologging_utils: Created MLflow autologging run with ID '5696b7de0d6040038ae5fe5a99b04907', which will track hyperparameters, performance metrics, model artifacts, and lineage information for the current sklearn workflow\n",
      "2024/04/22 23:14:12 INFO mlflow.utils.autologging_utils: Created MLflow autologging run with ID '1e560271d5734335bff926e9f01d0a9d', which will track hyperparameters, performance metrics, model artifacts, and lineage information for the current sklearn workflow\n",
      "2024/04/22 23:14:15 INFO mlflow.utils.autologging_utils: Created MLflow autologging run with ID 'ffc96569caa84a2f81570d4038ac93b0', which will track hyperparameters, performance metrics, model artifacts, and lineage information for the current sklearn workflow\n"
     ]
    },
    {
     "name": "stdout",
     "output_type": "stream",
     "text": [
      "                                                                            \n",
      "2.30 minutes have elapsed. TPOT will close down.                            \n",
      "TPOT closed during evaluation in one generation.\n",
      "WARNING: TPOT may not provide a good pipeline if TPOT is stopped/interrupted in a early generation.\n",
      "                                                                            \n",
      "                                                                            \n",
      "TPOT closed prematurely. Will use the current best pipeline.\n",
      "                                                                            "
     ]
    },
    {
     "name": "stderr",
     "output_type": "stream",
     "text": [
      "2024/04/22 23:14:16 INFO mlflow.utils.autologging_utils: Created MLflow autologging run with ID '853d8443d4704731b74b64276083ce3b', which will track hyperparameters, performance metrics, model artifacts, and lineage information for the current sklearn workflow\n"
     ]
    },
    {
     "name": "stdout",
     "output_type": "stream",
     "text": [
      "\r"
     ]
    },
    {
     "name": "stderr",
     "output_type": "stream",
     "text": [
      "2024/04/22 23:14:22 INFO mlflow.utils.autologging_utils: Created MLflow autologging run with ID '29b929481f8d44629686128abafaa2fa', which will track hyperparameters, performance metrics, model artifacts, and lineage information for the current sklearn workflow\n"
     ]
    },
    {
     "name": "stdout",
     "output_type": "stream",
     "text": [
      "\n",
      "Best pipeline: XGBClassifier(DecisionTreeClassifier(input_matrix, criterion=gini, max_depth=4, min_samples_leaf=4, min_samples_split=9), learning_rate=0.5, max_depth=5, min_child_weight=11, n_estimators=100, n_jobs=1, subsample=0.6000000000000001, verbosity=0)\n"
     ]
    },
    {
     "name": "stderr",
     "output_type": "stream",
     "text": [
      "2024/04/22 23:14:37 INFO mlflow.utils.autologging_utils: Created MLflow autologging run with ID 'ee481113bb554d2bb217b6550651fa2e', which will track hyperparameters, performance metrics, model artifacts, and lineage information for the current sklearn workflow\n"
     ]
    }
   ],
   "source": [
    "nn_tpot = TPOTClassifier(config_dict='TPOT NN', \n",
    "                     verbosity=2, population_size=5, generations=5, n_jobs = -1,max_time_mins = 2, \n",
    "                     scoring = 'roc_auc')\n",
    "\n",
    "assert not hasattr(nn_tpot, \"classes_\")\n",
    "nn_tpot.fit(X_train, y_train)\n",
    "assert hasattr(nn_tpot, \"classes_\")"
   ]
  },
  {
   "cell_type": "code",
   "execution_count": 16,
   "metadata": {},
   "outputs": [
    {
     "name": "stderr",
     "output_type": "stream",
     "text": [
      "/Users/chiaralu/Desktop/Courses/INSY 695/Group Project/hotel_cancellation_ML2/venv/lib/python3.11/site-packages/sklearn/utils/validation.py:1300: DataConversionWarning: A column-vector y was passed when a 1d array was expected. Please change the shape of y to (n_samples, ), for example using ravel().\n",
      "  y = column_or_1d(y, warn=True)\n",
      "/Users/chiaralu/Desktop/Courses/INSY 695/Group Project/hotel_cancellation_ML2/venv/lib/python3.11/site-packages/sklearn/base.py:493: UserWarning: X does not have valid feature names, but DecisionTreeClassifier was fitted with feature names\n",
      "  warnings.warn(\n",
      "/Users/chiaralu/Desktop/Courses/INSY 695/Group Project/hotel_cancellation_ML2/venv/lib/python3.11/site-packages/sklearn/base.py:493: UserWarning: X does not have valid feature names, but DecisionTreeClassifier was fitted with feature names\n",
      "  warnings.warn(\n",
      "2024/04/22 23:15:07 WARNING mlflow.utils.autologging_utils: MLflow autologging encountered a warning: \"/Users/chiaralu/Desktop/Courses/INSY 695/Group Project/hotel_cancellation_ML2/venv/lib/python3.11/site-packages/mlflow/data/digest_utils.py:26: FutureWarning: DataFrame.applymap has been deprecated. Use DataFrame.map instead.\"\n"
     ]
    },
    {
     "name": "stdout",
     "output_type": "stream",
     "text": [
      "AUC-ROC score: 0.9347729486671937\n"
     ]
    }
   ],
   "source": [
    "print(f\"AUC-ROC score: {nn_tpot.score(X_test, y_test)}\")"
   ]
  },
  {
   "cell_type": "code",
   "execution_count": 17,
   "metadata": {},
   "outputs": [],
   "source": [
    "# export best nn_tpot\n",
    "nn_tpot.export('nn_tpot_pipeline.py')"
   ]
  }
 ],
 "metadata": {
  "kernelspec": {
   "display_name": "base",
   "language": "python",
   "name": "python3"
  },
  "language_info": {
   "codemirror_mode": {
    "name": "ipython",
    "version": 3
   },
   "file_extension": ".py",
   "mimetype": "text/x-python",
   "name": "python",
   "nbconvert_exporter": "python",
   "pygments_lexer": "ipython3",
   "version": "3.11.4"
  }
 },
 "nbformat": 4,
 "nbformat_minor": 2
}
